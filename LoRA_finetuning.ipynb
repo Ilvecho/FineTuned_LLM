{
  "nbformat": 4,
  "nbformat_minor": 0,
  "metadata": {
    "colab": {
      "provenance": [],
      "collapsed_sections": [
        "KC5z4CwWXbop"
      ],
      "gpuType": "T4",
      "authorship_tag": "ABX9TyMNtX1p7kZXDCtFBOvuS39t",
      "include_colab_link": true
    },
    "kernelspec": {
      "name": "python3",
      "display_name": "Python 3"
    },
    "language_info": {
      "name": "python"
    },
    "widgets": {
      "application/vnd.jupyter.widget-state+json": {
        "3c30ad64ef1d4c2baf23aae7f5af8941": {
          "model_module": "@jupyter-widgets/controls",
          "model_name": "HBoxModel",
          "model_module_version": "1.5.0",
          "state": {
            "_dom_classes": [],
            "_model_module": "@jupyter-widgets/controls",
            "_model_module_version": "1.5.0",
            "_model_name": "HBoxModel",
            "_view_count": null,
            "_view_module": "@jupyter-widgets/controls",
            "_view_module_version": "1.5.0",
            "_view_name": "HBoxView",
            "box_style": "",
            "children": [
              "IPY_MODEL_21acf515c3c3471c921a9ae7365a988c",
              "IPY_MODEL_c09109a7b5b94221845ee5e2bca23b5b",
              "IPY_MODEL_71eda35c31d24685823b1e47810a204c"
            ],
            "layout": "IPY_MODEL_c15935510eea495387bb64d78bffdebe"
          }
        },
        "21acf515c3c3471c921a9ae7365a988c": {
          "model_module": "@jupyter-widgets/controls",
          "model_name": "HTMLModel",
          "model_module_version": "1.5.0",
          "state": {
            "_dom_classes": [],
            "_model_module": "@jupyter-widgets/controls",
            "_model_module_version": "1.5.0",
            "_model_name": "HTMLModel",
            "_view_count": null,
            "_view_module": "@jupyter-widgets/controls",
            "_view_module_version": "1.5.0",
            "_view_name": "HTMLView",
            "description": "",
            "description_tooltip": null,
            "layout": "IPY_MODEL_bb8b28ef17d94e3faaf4aaa015f222e9",
            "placeholder": "​",
            "style": "IPY_MODEL_2bd6f83340fa47bf8e9a21c45f0a76d1",
            "value": "Generating train split: "
          }
        },
        "c09109a7b5b94221845ee5e2bca23b5b": {
          "model_module": "@jupyter-widgets/controls",
          "model_name": "FloatProgressModel",
          "model_module_version": "1.5.0",
          "state": {
            "_dom_classes": [],
            "_model_module": "@jupyter-widgets/controls",
            "_model_module_version": "1.5.0",
            "_model_name": "FloatProgressModel",
            "_view_count": null,
            "_view_module": "@jupyter-widgets/controls",
            "_view_module_version": "1.5.0",
            "_view_name": "ProgressView",
            "bar_style": "success",
            "description": "",
            "description_tooltip": null,
            "layout": "IPY_MODEL_28d898d7fdc542018d84daba66cd53d5",
            "max": 1,
            "min": 0,
            "orientation": "horizontal",
            "style": "IPY_MODEL_e27b54ed3bcd490daf0095aff959233d",
            "value": 1
          }
        },
        "71eda35c31d24685823b1e47810a204c": {
          "model_module": "@jupyter-widgets/controls",
          "model_name": "HTMLModel",
          "model_module_version": "1.5.0",
          "state": {
            "_dom_classes": [],
            "_model_module": "@jupyter-widgets/controls",
            "_model_module_version": "1.5.0",
            "_model_name": "HTMLModel",
            "_view_count": null,
            "_view_module": "@jupyter-widgets/controls",
            "_view_module_version": "1.5.0",
            "_view_name": "HTMLView",
            "description": "",
            "description_tooltip": null,
            "layout": "IPY_MODEL_e86683de866a4cde90a0ec49b0d40491",
            "placeholder": "​",
            "style": "IPY_MODEL_0318cd17df774723a1b75a3153dfbbdd",
            "value": " 39/0 [00:00&lt;00:00, 771.67 examples/s]"
          }
        },
        "c15935510eea495387bb64d78bffdebe": {
          "model_module": "@jupyter-widgets/base",
          "model_name": "LayoutModel",
          "model_module_version": "1.2.0",
          "state": {
            "_model_module": "@jupyter-widgets/base",
            "_model_module_version": "1.2.0",
            "_model_name": "LayoutModel",
            "_view_count": null,
            "_view_module": "@jupyter-widgets/base",
            "_view_module_version": "1.2.0",
            "_view_name": "LayoutView",
            "align_content": null,
            "align_items": null,
            "align_self": null,
            "border": null,
            "bottom": null,
            "display": null,
            "flex": null,
            "flex_flow": null,
            "grid_area": null,
            "grid_auto_columns": null,
            "grid_auto_flow": null,
            "grid_auto_rows": null,
            "grid_column": null,
            "grid_gap": null,
            "grid_row": null,
            "grid_template_areas": null,
            "grid_template_columns": null,
            "grid_template_rows": null,
            "height": null,
            "justify_content": null,
            "justify_items": null,
            "left": null,
            "margin": null,
            "max_height": null,
            "max_width": null,
            "min_height": null,
            "min_width": null,
            "object_fit": null,
            "object_position": null,
            "order": null,
            "overflow": null,
            "overflow_x": null,
            "overflow_y": null,
            "padding": null,
            "right": null,
            "top": null,
            "visibility": null,
            "width": null
          }
        },
        "bb8b28ef17d94e3faaf4aaa015f222e9": {
          "model_module": "@jupyter-widgets/base",
          "model_name": "LayoutModel",
          "model_module_version": "1.2.0",
          "state": {
            "_model_module": "@jupyter-widgets/base",
            "_model_module_version": "1.2.0",
            "_model_name": "LayoutModel",
            "_view_count": null,
            "_view_module": "@jupyter-widgets/base",
            "_view_module_version": "1.2.0",
            "_view_name": "LayoutView",
            "align_content": null,
            "align_items": null,
            "align_self": null,
            "border": null,
            "bottom": null,
            "display": null,
            "flex": null,
            "flex_flow": null,
            "grid_area": null,
            "grid_auto_columns": null,
            "grid_auto_flow": null,
            "grid_auto_rows": null,
            "grid_column": null,
            "grid_gap": null,
            "grid_row": null,
            "grid_template_areas": null,
            "grid_template_columns": null,
            "grid_template_rows": null,
            "height": null,
            "justify_content": null,
            "justify_items": null,
            "left": null,
            "margin": null,
            "max_height": null,
            "max_width": null,
            "min_height": null,
            "min_width": null,
            "object_fit": null,
            "object_position": null,
            "order": null,
            "overflow": null,
            "overflow_x": null,
            "overflow_y": null,
            "padding": null,
            "right": null,
            "top": null,
            "visibility": null,
            "width": null
          }
        },
        "2bd6f83340fa47bf8e9a21c45f0a76d1": {
          "model_module": "@jupyter-widgets/controls",
          "model_name": "DescriptionStyleModel",
          "model_module_version": "1.5.0",
          "state": {
            "_model_module": "@jupyter-widgets/controls",
            "_model_module_version": "1.5.0",
            "_model_name": "DescriptionStyleModel",
            "_view_count": null,
            "_view_module": "@jupyter-widgets/base",
            "_view_module_version": "1.2.0",
            "_view_name": "StyleView",
            "description_width": ""
          }
        },
        "28d898d7fdc542018d84daba66cd53d5": {
          "model_module": "@jupyter-widgets/base",
          "model_name": "LayoutModel",
          "model_module_version": "1.2.0",
          "state": {
            "_model_module": "@jupyter-widgets/base",
            "_model_module_version": "1.2.0",
            "_model_name": "LayoutModel",
            "_view_count": null,
            "_view_module": "@jupyter-widgets/base",
            "_view_module_version": "1.2.0",
            "_view_name": "LayoutView",
            "align_content": null,
            "align_items": null,
            "align_self": null,
            "border": null,
            "bottom": null,
            "display": null,
            "flex": null,
            "flex_flow": null,
            "grid_area": null,
            "grid_auto_columns": null,
            "grid_auto_flow": null,
            "grid_auto_rows": null,
            "grid_column": null,
            "grid_gap": null,
            "grid_row": null,
            "grid_template_areas": null,
            "grid_template_columns": null,
            "grid_template_rows": null,
            "height": null,
            "justify_content": null,
            "justify_items": null,
            "left": null,
            "margin": null,
            "max_height": null,
            "max_width": null,
            "min_height": null,
            "min_width": null,
            "object_fit": null,
            "object_position": null,
            "order": null,
            "overflow": null,
            "overflow_x": null,
            "overflow_y": null,
            "padding": null,
            "right": null,
            "top": null,
            "visibility": null,
            "width": "20px"
          }
        },
        "e27b54ed3bcd490daf0095aff959233d": {
          "model_module": "@jupyter-widgets/controls",
          "model_name": "ProgressStyleModel",
          "model_module_version": "1.5.0",
          "state": {
            "_model_module": "@jupyter-widgets/controls",
            "_model_module_version": "1.5.0",
            "_model_name": "ProgressStyleModel",
            "_view_count": null,
            "_view_module": "@jupyter-widgets/base",
            "_view_module_version": "1.2.0",
            "_view_name": "StyleView",
            "bar_color": null,
            "description_width": ""
          }
        },
        "e86683de866a4cde90a0ec49b0d40491": {
          "model_module": "@jupyter-widgets/base",
          "model_name": "LayoutModel",
          "model_module_version": "1.2.0",
          "state": {
            "_model_module": "@jupyter-widgets/base",
            "_model_module_version": "1.2.0",
            "_model_name": "LayoutModel",
            "_view_count": null,
            "_view_module": "@jupyter-widgets/base",
            "_view_module_version": "1.2.0",
            "_view_name": "LayoutView",
            "align_content": null,
            "align_items": null,
            "align_self": null,
            "border": null,
            "bottom": null,
            "display": null,
            "flex": null,
            "flex_flow": null,
            "grid_area": null,
            "grid_auto_columns": null,
            "grid_auto_flow": null,
            "grid_auto_rows": null,
            "grid_column": null,
            "grid_gap": null,
            "grid_row": null,
            "grid_template_areas": null,
            "grid_template_columns": null,
            "grid_template_rows": null,
            "height": null,
            "justify_content": null,
            "justify_items": null,
            "left": null,
            "margin": null,
            "max_height": null,
            "max_width": null,
            "min_height": null,
            "min_width": null,
            "object_fit": null,
            "object_position": null,
            "order": null,
            "overflow": null,
            "overflow_x": null,
            "overflow_y": null,
            "padding": null,
            "right": null,
            "top": null,
            "visibility": null,
            "width": null
          }
        },
        "0318cd17df774723a1b75a3153dfbbdd": {
          "model_module": "@jupyter-widgets/controls",
          "model_name": "DescriptionStyleModel",
          "model_module_version": "1.5.0",
          "state": {
            "_model_module": "@jupyter-widgets/controls",
            "_model_module_version": "1.5.0",
            "_model_name": "DescriptionStyleModel",
            "_view_count": null,
            "_view_module": "@jupyter-widgets/base",
            "_view_module_version": "1.2.0",
            "_view_name": "StyleView",
            "description_width": ""
          }
        },
        "26518595cbc7415d89bf765ebe0eaf35": {
          "model_module": "@jupyter-widgets/controls",
          "model_name": "HBoxModel",
          "model_module_version": "1.5.0",
          "state": {
            "_dom_classes": [],
            "_model_module": "@jupyter-widgets/controls",
            "_model_module_version": "1.5.0",
            "_model_name": "HBoxModel",
            "_view_count": null,
            "_view_module": "@jupyter-widgets/controls",
            "_view_module_version": "1.5.0",
            "_view_name": "HBoxView",
            "box_style": "",
            "children": [
              "IPY_MODEL_eed1dc9712354754913ca4a456f3796f",
              "IPY_MODEL_dea35ee8b9df4c9dac8581c945de4615",
              "IPY_MODEL_5287183df4084deaa7a6f35da966132c"
            ],
            "layout": "IPY_MODEL_a5f591ccd2d14d5ca80c2d73ef2fde02"
          }
        },
        "eed1dc9712354754913ca4a456f3796f": {
          "model_module": "@jupyter-widgets/controls",
          "model_name": "HTMLModel",
          "model_module_version": "1.5.0",
          "state": {
            "_dom_classes": [],
            "_model_module": "@jupyter-widgets/controls",
            "_model_module_version": "1.5.0",
            "_model_name": "HTMLModel",
            "_view_count": null,
            "_view_module": "@jupyter-widgets/controls",
            "_view_module_version": "1.5.0",
            "_view_name": "HTMLView",
            "description": "",
            "description_tooltip": null,
            "layout": "IPY_MODEL_901a362f1fa340be9f3fb49adf518204",
            "placeholder": "​",
            "style": "IPY_MODEL_ac5a02c16c40489c9df40d02e040421e",
            "value": "Generating train split: "
          }
        },
        "dea35ee8b9df4c9dac8581c945de4615": {
          "model_module": "@jupyter-widgets/controls",
          "model_name": "FloatProgressModel",
          "model_module_version": "1.5.0",
          "state": {
            "_dom_classes": [],
            "_model_module": "@jupyter-widgets/controls",
            "_model_module_version": "1.5.0",
            "_model_name": "FloatProgressModel",
            "_view_count": null,
            "_view_module": "@jupyter-widgets/controls",
            "_view_module_version": "1.5.0",
            "_view_name": "ProgressView",
            "bar_style": "success",
            "description": "",
            "description_tooltip": null,
            "layout": "IPY_MODEL_99dd7092ba124384b5eb04cb502e3ee7",
            "max": 1,
            "min": 0,
            "orientation": "horizontal",
            "style": "IPY_MODEL_2eb6c7be427b4bbd87763a769e91802d",
            "value": 1
          }
        },
        "5287183df4084deaa7a6f35da966132c": {
          "model_module": "@jupyter-widgets/controls",
          "model_name": "HTMLModel",
          "model_module_version": "1.5.0",
          "state": {
            "_dom_classes": [],
            "_model_module": "@jupyter-widgets/controls",
            "_model_module_version": "1.5.0",
            "_model_name": "HTMLModel",
            "_view_count": null,
            "_view_module": "@jupyter-widgets/controls",
            "_view_module_version": "1.5.0",
            "_view_name": "HTMLView",
            "description": "",
            "description_tooltip": null,
            "layout": "IPY_MODEL_3e03b218e7764efb9b54dcfb4491c2ef",
            "placeholder": "​",
            "style": "IPY_MODEL_529206adb72b4083823b1ecbf9c8585b",
            "value": " 29/0 [00:00&lt;00:00, 380.76 examples/s]"
          }
        },
        "a5f591ccd2d14d5ca80c2d73ef2fde02": {
          "model_module": "@jupyter-widgets/base",
          "model_name": "LayoutModel",
          "model_module_version": "1.2.0",
          "state": {
            "_model_module": "@jupyter-widgets/base",
            "_model_module_version": "1.2.0",
            "_model_name": "LayoutModel",
            "_view_count": null,
            "_view_module": "@jupyter-widgets/base",
            "_view_module_version": "1.2.0",
            "_view_name": "LayoutView",
            "align_content": null,
            "align_items": null,
            "align_self": null,
            "border": null,
            "bottom": null,
            "display": null,
            "flex": null,
            "flex_flow": null,
            "grid_area": null,
            "grid_auto_columns": null,
            "grid_auto_flow": null,
            "grid_auto_rows": null,
            "grid_column": null,
            "grid_gap": null,
            "grid_row": null,
            "grid_template_areas": null,
            "grid_template_columns": null,
            "grid_template_rows": null,
            "height": null,
            "justify_content": null,
            "justify_items": null,
            "left": null,
            "margin": null,
            "max_height": null,
            "max_width": null,
            "min_height": null,
            "min_width": null,
            "object_fit": null,
            "object_position": null,
            "order": null,
            "overflow": null,
            "overflow_x": null,
            "overflow_y": null,
            "padding": null,
            "right": null,
            "top": null,
            "visibility": null,
            "width": null
          }
        },
        "901a362f1fa340be9f3fb49adf518204": {
          "model_module": "@jupyter-widgets/base",
          "model_name": "LayoutModel",
          "model_module_version": "1.2.0",
          "state": {
            "_model_module": "@jupyter-widgets/base",
            "_model_module_version": "1.2.0",
            "_model_name": "LayoutModel",
            "_view_count": null,
            "_view_module": "@jupyter-widgets/base",
            "_view_module_version": "1.2.0",
            "_view_name": "LayoutView",
            "align_content": null,
            "align_items": null,
            "align_self": null,
            "border": null,
            "bottom": null,
            "display": null,
            "flex": null,
            "flex_flow": null,
            "grid_area": null,
            "grid_auto_columns": null,
            "grid_auto_flow": null,
            "grid_auto_rows": null,
            "grid_column": null,
            "grid_gap": null,
            "grid_row": null,
            "grid_template_areas": null,
            "grid_template_columns": null,
            "grid_template_rows": null,
            "height": null,
            "justify_content": null,
            "justify_items": null,
            "left": null,
            "margin": null,
            "max_height": null,
            "max_width": null,
            "min_height": null,
            "min_width": null,
            "object_fit": null,
            "object_position": null,
            "order": null,
            "overflow": null,
            "overflow_x": null,
            "overflow_y": null,
            "padding": null,
            "right": null,
            "top": null,
            "visibility": null,
            "width": null
          }
        },
        "ac5a02c16c40489c9df40d02e040421e": {
          "model_module": "@jupyter-widgets/controls",
          "model_name": "DescriptionStyleModel",
          "model_module_version": "1.5.0",
          "state": {
            "_model_module": "@jupyter-widgets/controls",
            "_model_module_version": "1.5.0",
            "_model_name": "DescriptionStyleModel",
            "_view_count": null,
            "_view_module": "@jupyter-widgets/base",
            "_view_module_version": "1.2.0",
            "_view_name": "StyleView",
            "description_width": ""
          }
        },
        "99dd7092ba124384b5eb04cb502e3ee7": {
          "model_module": "@jupyter-widgets/base",
          "model_name": "LayoutModel",
          "model_module_version": "1.2.0",
          "state": {
            "_model_module": "@jupyter-widgets/base",
            "_model_module_version": "1.2.0",
            "_model_name": "LayoutModel",
            "_view_count": null,
            "_view_module": "@jupyter-widgets/base",
            "_view_module_version": "1.2.0",
            "_view_name": "LayoutView",
            "align_content": null,
            "align_items": null,
            "align_self": null,
            "border": null,
            "bottom": null,
            "display": null,
            "flex": null,
            "flex_flow": null,
            "grid_area": null,
            "grid_auto_columns": null,
            "grid_auto_flow": null,
            "grid_auto_rows": null,
            "grid_column": null,
            "grid_gap": null,
            "grid_row": null,
            "grid_template_areas": null,
            "grid_template_columns": null,
            "grid_template_rows": null,
            "height": null,
            "justify_content": null,
            "justify_items": null,
            "left": null,
            "margin": null,
            "max_height": null,
            "max_width": null,
            "min_height": null,
            "min_width": null,
            "object_fit": null,
            "object_position": null,
            "order": null,
            "overflow": null,
            "overflow_x": null,
            "overflow_y": null,
            "padding": null,
            "right": null,
            "top": null,
            "visibility": null,
            "width": "20px"
          }
        },
        "2eb6c7be427b4bbd87763a769e91802d": {
          "model_module": "@jupyter-widgets/controls",
          "model_name": "ProgressStyleModel",
          "model_module_version": "1.5.0",
          "state": {
            "_model_module": "@jupyter-widgets/controls",
            "_model_module_version": "1.5.0",
            "_model_name": "ProgressStyleModel",
            "_view_count": null,
            "_view_module": "@jupyter-widgets/base",
            "_view_module_version": "1.2.0",
            "_view_name": "StyleView",
            "bar_color": null,
            "description_width": ""
          }
        },
        "3e03b218e7764efb9b54dcfb4491c2ef": {
          "model_module": "@jupyter-widgets/base",
          "model_name": "LayoutModel",
          "model_module_version": "1.2.0",
          "state": {
            "_model_module": "@jupyter-widgets/base",
            "_model_module_version": "1.2.0",
            "_model_name": "LayoutModel",
            "_view_count": null,
            "_view_module": "@jupyter-widgets/base",
            "_view_module_version": "1.2.0",
            "_view_name": "LayoutView",
            "align_content": null,
            "align_items": null,
            "align_self": null,
            "border": null,
            "bottom": null,
            "display": null,
            "flex": null,
            "flex_flow": null,
            "grid_area": null,
            "grid_auto_columns": null,
            "grid_auto_flow": null,
            "grid_auto_rows": null,
            "grid_column": null,
            "grid_gap": null,
            "grid_row": null,
            "grid_template_areas": null,
            "grid_template_columns": null,
            "grid_template_rows": null,
            "height": null,
            "justify_content": null,
            "justify_items": null,
            "left": null,
            "margin": null,
            "max_height": null,
            "max_width": null,
            "min_height": null,
            "min_width": null,
            "object_fit": null,
            "object_position": null,
            "order": null,
            "overflow": null,
            "overflow_x": null,
            "overflow_y": null,
            "padding": null,
            "right": null,
            "top": null,
            "visibility": null,
            "width": null
          }
        },
        "529206adb72b4083823b1ecbf9c8585b": {
          "model_module": "@jupyter-widgets/controls",
          "model_name": "DescriptionStyleModel",
          "model_module_version": "1.5.0",
          "state": {
            "_model_module": "@jupyter-widgets/controls",
            "_model_module_version": "1.5.0",
            "_model_name": "DescriptionStyleModel",
            "_view_count": null,
            "_view_module": "@jupyter-widgets/base",
            "_view_module_version": "1.2.0",
            "_view_name": "StyleView",
            "description_width": ""
          }
        },
        "b579d0d6d17d40029024bfffc1093ff6": {
          "model_module": "@jupyter-widgets/controls",
          "model_name": "HBoxModel",
          "model_module_version": "1.5.0",
          "state": {
            "_dom_classes": [],
            "_model_module": "@jupyter-widgets/controls",
            "_model_module_version": "1.5.0",
            "_model_name": "HBoxModel",
            "_view_count": null,
            "_view_module": "@jupyter-widgets/controls",
            "_view_module_version": "1.5.0",
            "_view_name": "HBoxView",
            "box_style": "",
            "children": [
              "IPY_MODEL_44f5c5c7ad5a48f299f94c01a4d21c3d",
              "IPY_MODEL_c9556240e32e4db2aacc34d152b8a770",
              "IPY_MODEL_6df8341fdcb9428888aa794bb40ce8c8"
            ],
            "layout": "IPY_MODEL_6e034d9480b74b55a29a5c642319bcd4"
          }
        },
        "44f5c5c7ad5a48f299f94c01a4d21c3d": {
          "model_module": "@jupyter-widgets/controls",
          "model_name": "HTMLModel",
          "model_module_version": "1.5.0",
          "state": {
            "_dom_classes": [],
            "_model_module": "@jupyter-widgets/controls",
            "_model_module_version": "1.5.0",
            "_model_name": "HTMLModel",
            "_view_count": null,
            "_view_module": "@jupyter-widgets/controls",
            "_view_module_version": "1.5.0",
            "_view_name": "HTMLView",
            "description": "",
            "description_tooltip": null,
            "layout": "IPY_MODEL_1453708ce87545219dced64283ee9411",
            "placeholder": "​",
            "style": "IPY_MODEL_ec841465a4ac4ae39229d85cb1ad20cf",
            "value": "Generating test split: "
          }
        },
        "c9556240e32e4db2aacc34d152b8a770": {
          "model_module": "@jupyter-widgets/controls",
          "model_name": "FloatProgressModel",
          "model_module_version": "1.5.0",
          "state": {
            "_dom_classes": [],
            "_model_module": "@jupyter-widgets/controls",
            "_model_module_version": "1.5.0",
            "_model_name": "FloatProgressModel",
            "_view_count": null,
            "_view_module": "@jupyter-widgets/controls",
            "_view_module_version": "1.5.0",
            "_view_name": "ProgressView",
            "bar_style": "success",
            "description": "",
            "description_tooltip": null,
            "layout": "IPY_MODEL_16590db93386430d8c8ea62394fe9f3f",
            "max": 1,
            "min": 0,
            "orientation": "horizontal",
            "style": "IPY_MODEL_99c893c770434922ae65e3906e167a22",
            "value": 1
          }
        },
        "6df8341fdcb9428888aa794bb40ce8c8": {
          "model_module": "@jupyter-widgets/controls",
          "model_name": "HTMLModel",
          "model_module_version": "1.5.0",
          "state": {
            "_dom_classes": [],
            "_model_module": "@jupyter-widgets/controls",
            "_model_module_version": "1.5.0",
            "_model_name": "HTMLModel",
            "_view_count": null,
            "_view_module": "@jupyter-widgets/controls",
            "_view_module_version": "1.5.0",
            "_view_name": "HTMLView",
            "description": "",
            "description_tooltip": null,
            "layout": "IPY_MODEL_f7ea5059b91e46cfb54850eeed20bffa",
            "placeholder": "​",
            "style": "IPY_MODEL_308dcf991cbe490babfc2c896479d740",
            "value": " 10/0 [00:00&lt;00:00, 148.75 examples/s]"
          }
        },
        "6e034d9480b74b55a29a5c642319bcd4": {
          "model_module": "@jupyter-widgets/base",
          "model_name": "LayoutModel",
          "model_module_version": "1.2.0",
          "state": {
            "_model_module": "@jupyter-widgets/base",
            "_model_module_version": "1.2.0",
            "_model_name": "LayoutModel",
            "_view_count": null,
            "_view_module": "@jupyter-widgets/base",
            "_view_module_version": "1.2.0",
            "_view_name": "LayoutView",
            "align_content": null,
            "align_items": null,
            "align_self": null,
            "border": null,
            "bottom": null,
            "display": null,
            "flex": null,
            "flex_flow": null,
            "grid_area": null,
            "grid_auto_columns": null,
            "grid_auto_flow": null,
            "grid_auto_rows": null,
            "grid_column": null,
            "grid_gap": null,
            "grid_row": null,
            "grid_template_areas": null,
            "grid_template_columns": null,
            "grid_template_rows": null,
            "height": null,
            "justify_content": null,
            "justify_items": null,
            "left": null,
            "margin": null,
            "max_height": null,
            "max_width": null,
            "min_height": null,
            "min_width": null,
            "object_fit": null,
            "object_position": null,
            "order": null,
            "overflow": null,
            "overflow_x": null,
            "overflow_y": null,
            "padding": null,
            "right": null,
            "top": null,
            "visibility": null,
            "width": null
          }
        },
        "1453708ce87545219dced64283ee9411": {
          "model_module": "@jupyter-widgets/base",
          "model_name": "LayoutModel",
          "model_module_version": "1.2.0",
          "state": {
            "_model_module": "@jupyter-widgets/base",
            "_model_module_version": "1.2.0",
            "_model_name": "LayoutModel",
            "_view_count": null,
            "_view_module": "@jupyter-widgets/base",
            "_view_module_version": "1.2.0",
            "_view_name": "LayoutView",
            "align_content": null,
            "align_items": null,
            "align_self": null,
            "border": null,
            "bottom": null,
            "display": null,
            "flex": null,
            "flex_flow": null,
            "grid_area": null,
            "grid_auto_columns": null,
            "grid_auto_flow": null,
            "grid_auto_rows": null,
            "grid_column": null,
            "grid_gap": null,
            "grid_row": null,
            "grid_template_areas": null,
            "grid_template_columns": null,
            "grid_template_rows": null,
            "height": null,
            "justify_content": null,
            "justify_items": null,
            "left": null,
            "margin": null,
            "max_height": null,
            "max_width": null,
            "min_height": null,
            "min_width": null,
            "object_fit": null,
            "object_position": null,
            "order": null,
            "overflow": null,
            "overflow_x": null,
            "overflow_y": null,
            "padding": null,
            "right": null,
            "top": null,
            "visibility": null,
            "width": null
          }
        },
        "ec841465a4ac4ae39229d85cb1ad20cf": {
          "model_module": "@jupyter-widgets/controls",
          "model_name": "DescriptionStyleModel",
          "model_module_version": "1.5.0",
          "state": {
            "_model_module": "@jupyter-widgets/controls",
            "_model_module_version": "1.5.0",
            "_model_name": "DescriptionStyleModel",
            "_view_count": null,
            "_view_module": "@jupyter-widgets/base",
            "_view_module_version": "1.2.0",
            "_view_name": "StyleView",
            "description_width": ""
          }
        },
        "16590db93386430d8c8ea62394fe9f3f": {
          "model_module": "@jupyter-widgets/base",
          "model_name": "LayoutModel",
          "model_module_version": "1.2.0",
          "state": {
            "_model_module": "@jupyter-widgets/base",
            "_model_module_version": "1.2.0",
            "_model_name": "LayoutModel",
            "_view_count": null,
            "_view_module": "@jupyter-widgets/base",
            "_view_module_version": "1.2.0",
            "_view_name": "LayoutView",
            "align_content": null,
            "align_items": null,
            "align_self": null,
            "border": null,
            "bottom": null,
            "display": null,
            "flex": null,
            "flex_flow": null,
            "grid_area": null,
            "grid_auto_columns": null,
            "grid_auto_flow": null,
            "grid_auto_rows": null,
            "grid_column": null,
            "grid_gap": null,
            "grid_row": null,
            "grid_template_areas": null,
            "grid_template_columns": null,
            "grid_template_rows": null,
            "height": null,
            "justify_content": null,
            "justify_items": null,
            "left": null,
            "margin": null,
            "max_height": null,
            "max_width": null,
            "min_height": null,
            "min_width": null,
            "object_fit": null,
            "object_position": null,
            "order": null,
            "overflow": null,
            "overflow_x": null,
            "overflow_y": null,
            "padding": null,
            "right": null,
            "top": null,
            "visibility": null,
            "width": "20px"
          }
        },
        "99c893c770434922ae65e3906e167a22": {
          "model_module": "@jupyter-widgets/controls",
          "model_name": "ProgressStyleModel",
          "model_module_version": "1.5.0",
          "state": {
            "_model_module": "@jupyter-widgets/controls",
            "_model_module_version": "1.5.0",
            "_model_name": "ProgressStyleModel",
            "_view_count": null,
            "_view_module": "@jupyter-widgets/base",
            "_view_module_version": "1.2.0",
            "_view_name": "StyleView",
            "bar_color": null,
            "description_width": ""
          }
        },
        "f7ea5059b91e46cfb54850eeed20bffa": {
          "model_module": "@jupyter-widgets/base",
          "model_name": "LayoutModel",
          "model_module_version": "1.2.0",
          "state": {
            "_model_module": "@jupyter-widgets/base",
            "_model_module_version": "1.2.0",
            "_model_name": "LayoutModel",
            "_view_count": null,
            "_view_module": "@jupyter-widgets/base",
            "_view_module_version": "1.2.0",
            "_view_name": "LayoutView",
            "align_content": null,
            "align_items": null,
            "align_self": null,
            "border": null,
            "bottom": null,
            "display": null,
            "flex": null,
            "flex_flow": null,
            "grid_area": null,
            "grid_auto_columns": null,
            "grid_auto_flow": null,
            "grid_auto_rows": null,
            "grid_column": null,
            "grid_gap": null,
            "grid_row": null,
            "grid_template_areas": null,
            "grid_template_columns": null,
            "grid_template_rows": null,
            "height": null,
            "justify_content": null,
            "justify_items": null,
            "left": null,
            "margin": null,
            "max_height": null,
            "max_width": null,
            "min_height": null,
            "min_width": null,
            "object_fit": null,
            "object_position": null,
            "order": null,
            "overflow": null,
            "overflow_x": null,
            "overflow_y": null,
            "padding": null,
            "right": null,
            "top": null,
            "visibility": null,
            "width": null
          }
        },
        "308dcf991cbe490babfc2c896479d740": {
          "model_module": "@jupyter-widgets/controls",
          "model_name": "DescriptionStyleModel",
          "model_module_version": "1.5.0",
          "state": {
            "_model_module": "@jupyter-widgets/controls",
            "_model_module_version": "1.5.0",
            "_model_name": "DescriptionStyleModel",
            "_view_count": null,
            "_view_module": "@jupyter-widgets/base",
            "_view_module_version": "1.2.0",
            "_view_name": "StyleView",
            "description_width": ""
          }
        },
        "30674e90f5c144d0b98404764bfde44a": {
          "model_module": "@jupyter-widgets/controls",
          "model_name": "HBoxModel",
          "model_module_version": "1.5.0",
          "state": {
            "_dom_classes": [],
            "_model_module": "@jupyter-widgets/controls",
            "_model_module_version": "1.5.0",
            "_model_name": "HBoxModel",
            "_view_count": null,
            "_view_module": "@jupyter-widgets/controls",
            "_view_module_version": "1.5.0",
            "_view_name": "HBoxView",
            "box_style": "",
            "children": [
              "IPY_MODEL_60127674f62d4944a4cc3b94cb269966",
              "IPY_MODEL_072f38e95ff1428aae441b886a40f9a7",
              "IPY_MODEL_21766a62711544b492300c8ced3ff15e"
            ],
            "layout": "IPY_MODEL_d2e248d932bd4c8e8185f73650c039fc"
          }
        },
        "60127674f62d4944a4cc3b94cb269966": {
          "model_module": "@jupyter-widgets/controls",
          "model_name": "HTMLModel",
          "model_module_version": "1.5.0",
          "state": {
            "_dom_classes": [],
            "_model_module": "@jupyter-widgets/controls",
            "_model_module_version": "1.5.0",
            "_model_name": "HTMLModel",
            "_view_count": null,
            "_view_module": "@jupyter-widgets/controls",
            "_view_module_version": "1.5.0",
            "_view_name": "HTMLView",
            "description": "",
            "description_tooltip": null,
            "layout": "IPY_MODEL_1f3f06e453e54f8aaacfcd70b6cbce92",
            "placeholder": "​",
            "style": "IPY_MODEL_23e14e65a4e544fc97a617ded2e9a169",
            "value": "Loading checkpoint shards: 100%"
          }
        },
        "072f38e95ff1428aae441b886a40f9a7": {
          "model_module": "@jupyter-widgets/controls",
          "model_name": "FloatProgressModel",
          "model_module_version": "1.5.0",
          "state": {
            "_dom_classes": [],
            "_model_module": "@jupyter-widgets/controls",
            "_model_module_version": "1.5.0",
            "_model_name": "FloatProgressModel",
            "_view_count": null,
            "_view_module": "@jupyter-widgets/controls",
            "_view_module_version": "1.5.0",
            "_view_name": "ProgressView",
            "bar_style": "success",
            "description": "",
            "description_tooltip": null,
            "layout": "IPY_MODEL_531c496e9dae4046a6d1c2eb8bf9b363",
            "max": 2,
            "min": 0,
            "orientation": "horizontal",
            "style": "IPY_MODEL_208e0e7649b8401f852ae78c453c7cd6",
            "value": 2
          }
        },
        "21766a62711544b492300c8ced3ff15e": {
          "model_module": "@jupyter-widgets/controls",
          "model_name": "HTMLModel",
          "model_module_version": "1.5.0",
          "state": {
            "_dom_classes": [],
            "_model_module": "@jupyter-widgets/controls",
            "_model_module_version": "1.5.0",
            "_model_name": "HTMLModel",
            "_view_count": null,
            "_view_module": "@jupyter-widgets/controls",
            "_view_module_version": "1.5.0",
            "_view_name": "HTMLView",
            "description": "",
            "description_tooltip": null,
            "layout": "IPY_MODEL_d0bf328f50de4a47b289530439bc8235",
            "placeholder": "​",
            "style": "IPY_MODEL_76ac51c58b7f4c66b2b84d3888875886",
            "value": " 2/2 [01:20&lt;00:00, 37.77s/it]"
          }
        },
        "d2e248d932bd4c8e8185f73650c039fc": {
          "model_module": "@jupyter-widgets/base",
          "model_name": "LayoutModel",
          "model_module_version": "1.2.0",
          "state": {
            "_model_module": "@jupyter-widgets/base",
            "_model_module_version": "1.2.0",
            "_model_name": "LayoutModel",
            "_view_count": null,
            "_view_module": "@jupyter-widgets/base",
            "_view_module_version": "1.2.0",
            "_view_name": "LayoutView",
            "align_content": null,
            "align_items": null,
            "align_self": null,
            "border": null,
            "bottom": null,
            "display": null,
            "flex": null,
            "flex_flow": null,
            "grid_area": null,
            "grid_auto_columns": null,
            "grid_auto_flow": null,
            "grid_auto_rows": null,
            "grid_column": null,
            "grid_gap": null,
            "grid_row": null,
            "grid_template_areas": null,
            "grid_template_columns": null,
            "grid_template_rows": null,
            "height": null,
            "justify_content": null,
            "justify_items": null,
            "left": null,
            "margin": null,
            "max_height": null,
            "max_width": null,
            "min_height": null,
            "min_width": null,
            "object_fit": null,
            "object_position": null,
            "order": null,
            "overflow": null,
            "overflow_x": null,
            "overflow_y": null,
            "padding": null,
            "right": null,
            "top": null,
            "visibility": null,
            "width": null
          }
        },
        "1f3f06e453e54f8aaacfcd70b6cbce92": {
          "model_module": "@jupyter-widgets/base",
          "model_name": "LayoutModel",
          "model_module_version": "1.2.0",
          "state": {
            "_model_module": "@jupyter-widgets/base",
            "_model_module_version": "1.2.0",
            "_model_name": "LayoutModel",
            "_view_count": null,
            "_view_module": "@jupyter-widgets/base",
            "_view_module_version": "1.2.0",
            "_view_name": "LayoutView",
            "align_content": null,
            "align_items": null,
            "align_self": null,
            "border": null,
            "bottom": null,
            "display": null,
            "flex": null,
            "flex_flow": null,
            "grid_area": null,
            "grid_auto_columns": null,
            "grid_auto_flow": null,
            "grid_auto_rows": null,
            "grid_column": null,
            "grid_gap": null,
            "grid_row": null,
            "grid_template_areas": null,
            "grid_template_columns": null,
            "grid_template_rows": null,
            "height": null,
            "justify_content": null,
            "justify_items": null,
            "left": null,
            "margin": null,
            "max_height": null,
            "max_width": null,
            "min_height": null,
            "min_width": null,
            "object_fit": null,
            "object_position": null,
            "order": null,
            "overflow": null,
            "overflow_x": null,
            "overflow_y": null,
            "padding": null,
            "right": null,
            "top": null,
            "visibility": null,
            "width": null
          }
        },
        "23e14e65a4e544fc97a617ded2e9a169": {
          "model_module": "@jupyter-widgets/controls",
          "model_name": "DescriptionStyleModel",
          "model_module_version": "1.5.0",
          "state": {
            "_model_module": "@jupyter-widgets/controls",
            "_model_module_version": "1.5.0",
            "_model_name": "DescriptionStyleModel",
            "_view_count": null,
            "_view_module": "@jupyter-widgets/base",
            "_view_module_version": "1.2.0",
            "_view_name": "StyleView",
            "description_width": ""
          }
        },
        "531c496e9dae4046a6d1c2eb8bf9b363": {
          "model_module": "@jupyter-widgets/base",
          "model_name": "LayoutModel",
          "model_module_version": "1.2.0",
          "state": {
            "_model_module": "@jupyter-widgets/base",
            "_model_module_version": "1.2.0",
            "_model_name": "LayoutModel",
            "_view_count": null,
            "_view_module": "@jupyter-widgets/base",
            "_view_module_version": "1.2.0",
            "_view_name": "LayoutView",
            "align_content": null,
            "align_items": null,
            "align_self": null,
            "border": null,
            "bottom": null,
            "display": null,
            "flex": null,
            "flex_flow": null,
            "grid_area": null,
            "grid_auto_columns": null,
            "grid_auto_flow": null,
            "grid_auto_rows": null,
            "grid_column": null,
            "grid_gap": null,
            "grid_row": null,
            "grid_template_areas": null,
            "grid_template_columns": null,
            "grid_template_rows": null,
            "height": null,
            "justify_content": null,
            "justify_items": null,
            "left": null,
            "margin": null,
            "max_height": null,
            "max_width": null,
            "min_height": null,
            "min_width": null,
            "object_fit": null,
            "object_position": null,
            "order": null,
            "overflow": null,
            "overflow_x": null,
            "overflow_y": null,
            "padding": null,
            "right": null,
            "top": null,
            "visibility": null,
            "width": null
          }
        },
        "208e0e7649b8401f852ae78c453c7cd6": {
          "model_module": "@jupyter-widgets/controls",
          "model_name": "ProgressStyleModel",
          "model_module_version": "1.5.0",
          "state": {
            "_model_module": "@jupyter-widgets/controls",
            "_model_module_version": "1.5.0",
            "_model_name": "ProgressStyleModel",
            "_view_count": null,
            "_view_module": "@jupyter-widgets/base",
            "_view_module_version": "1.2.0",
            "_view_name": "StyleView",
            "bar_color": null,
            "description_width": ""
          }
        },
        "d0bf328f50de4a47b289530439bc8235": {
          "model_module": "@jupyter-widgets/base",
          "model_name": "LayoutModel",
          "model_module_version": "1.2.0",
          "state": {
            "_model_module": "@jupyter-widgets/base",
            "_model_module_version": "1.2.0",
            "_model_name": "LayoutModel",
            "_view_count": null,
            "_view_module": "@jupyter-widgets/base",
            "_view_module_version": "1.2.0",
            "_view_name": "LayoutView",
            "align_content": null,
            "align_items": null,
            "align_self": null,
            "border": null,
            "bottom": null,
            "display": null,
            "flex": null,
            "flex_flow": null,
            "grid_area": null,
            "grid_auto_columns": null,
            "grid_auto_flow": null,
            "grid_auto_rows": null,
            "grid_column": null,
            "grid_gap": null,
            "grid_row": null,
            "grid_template_areas": null,
            "grid_template_columns": null,
            "grid_template_rows": null,
            "height": null,
            "justify_content": null,
            "justify_items": null,
            "left": null,
            "margin": null,
            "max_height": null,
            "max_width": null,
            "min_height": null,
            "min_width": null,
            "object_fit": null,
            "object_position": null,
            "order": null,
            "overflow": null,
            "overflow_x": null,
            "overflow_y": null,
            "padding": null,
            "right": null,
            "top": null,
            "visibility": null,
            "width": null
          }
        },
        "76ac51c58b7f4c66b2b84d3888875886": {
          "model_module": "@jupyter-widgets/controls",
          "model_name": "DescriptionStyleModel",
          "model_module_version": "1.5.0",
          "state": {
            "_model_module": "@jupyter-widgets/controls",
            "_model_module_version": "1.5.0",
            "_model_name": "DescriptionStyleModel",
            "_view_count": null,
            "_view_module": "@jupyter-widgets/base",
            "_view_module_version": "1.2.0",
            "_view_name": "StyleView",
            "description_width": ""
          }
        },
        "a60bc8fc2c41436ea6dbbec9bccc6bbc": {
          "model_module": "@jupyter-widgets/controls",
          "model_name": "HBoxModel",
          "model_module_version": "1.5.0",
          "state": {
            "_dom_classes": [],
            "_model_module": "@jupyter-widgets/controls",
            "_model_module_version": "1.5.0",
            "_model_name": "HBoxModel",
            "_view_count": null,
            "_view_module": "@jupyter-widgets/controls",
            "_view_module_version": "1.5.0",
            "_view_name": "HBoxView",
            "box_style": "",
            "children": [
              "IPY_MODEL_d01a635d61064ccba38a2ca6d15f8e43",
              "IPY_MODEL_42573e2f79f7433da8ddfa316b2b43d2",
              "IPY_MODEL_41337edfd1064e87a27d13c9b25baf59"
            ],
            "layout": "IPY_MODEL_de0327e4ba3f47f7a23763d7aa7b9c06"
          }
        },
        "d01a635d61064ccba38a2ca6d15f8e43": {
          "model_module": "@jupyter-widgets/controls",
          "model_name": "HTMLModel",
          "model_module_version": "1.5.0",
          "state": {
            "_dom_classes": [],
            "_model_module": "@jupyter-widgets/controls",
            "_model_module_version": "1.5.0",
            "_model_name": "HTMLModel",
            "_view_count": null,
            "_view_module": "@jupyter-widgets/controls",
            "_view_module_version": "1.5.0",
            "_view_name": "HTMLView",
            "description": "",
            "description_tooltip": null,
            "layout": "IPY_MODEL_4a9dc9c8f14042b6b99bfa64d07b0883",
            "placeholder": "​",
            "style": "IPY_MODEL_3feac85d92f64f0baebb514318d31d54",
            "value": "Map: 100%"
          }
        },
        "42573e2f79f7433da8ddfa316b2b43d2": {
          "model_module": "@jupyter-widgets/controls",
          "model_name": "FloatProgressModel",
          "model_module_version": "1.5.0",
          "state": {
            "_dom_classes": [],
            "_model_module": "@jupyter-widgets/controls",
            "_model_module_version": "1.5.0",
            "_model_name": "FloatProgressModel",
            "_view_count": null,
            "_view_module": "@jupyter-widgets/controls",
            "_view_module_version": "1.5.0",
            "_view_name": "ProgressView",
            "bar_style": "success",
            "description": "",
            "description_tooltip": null,
            "layout": "IPY_MODEL_36ba5a1ce83c40a59229090e60f03a4f",
            "max": 645,
            "min": 0,
            "orientation": "horizontal",
            "style": "IPY_MODEL_ac818e71aeda474b993c653c11f7317e",
            "value": 645
          }
        },
        "41337edfd1064e87a27d13c9b25baf59": {
          "model_module": "@jupyter-widgets/controls",
          "model_name": "HTMLModel",
          "model_module_version": "1.5.0",
          "state": {
            "_dom_classes": [],
            "_model_module": "@jupyter-widgets/controls",
            "_model_module_version": "1.5.0",
            "_model_name": "HTMLModel",
            "_view_count": null,
            "_view_module": "@jupyter-widgets/controls",
            "_view_module_version": "1.5.0",
            "_view_name": "HTMLView",
            "description": "",
            "description_tooltip": null,
            "layout": "IPY_MODEL_9a6fdc85be724102a0fda6121114b9a0",
            "placeholder": "​",
            "style": "IPY_MODEL_c1b3f1c5627848ac8fd25295fef66a8c",
            "value": " 645/645 [00:00&lt;00:00, 1008.75 examples/s]"
          }
        },
        "de0327e4ba3f47f7a23763d7aa7b9c06": {
          "model_module": "@jupyter-widgets/base",
          "model_name": "LayoutModel",
          "model_module_version": "1.2.0",
          "state": {
            "_model_module": "@jupyter-widgets/base",
            "_model_module_version": "1.2.0",
            "_model_name": "LayoutModel",
            "_view_count": null,
            "_view_module": "@jupyter-widgets/base",
            "_view_module_version": "1.2.0",
            "_view_name": "LayoutView",
            "align_content": null,
            "align_items": null,
            "align_self": null,
            "border": null,
            "bottom": null,
            "display": null,
            "flex": null,
            "flex_flow": null,
            "grid_area": null,
            "grid_auto_columns": null,
            "grid_auto_flow": null,
            "grid_auto_rows": null,
            "grid_column": null,
            "grid_gap": null,
            "grid_row": null,
            "grid_template_areas": null,
            "grid_template_columns": null,
            "grid_template_rows": null,
            "height": null,
            "justify_content": null,
            "justify_items": null,
            "left": null,
            "margin": null,
            "max_height": null,
            "max_width": null,
            "min_height": null,
            "min_width": null,
            "object_fit": null,
            "object_position": null,
            "order": null,
            "overflow": null,
            "overflow_x": null,
            "overflow_y": null,
            "padding": null,
            "right": null,
            "top": null,
            "visibility": null,
            "width": null
          }
        },
        "4a9dc9c8f14042b6b99bfa64d07b0883": {
          "model_module": "@jupyter-widgets/base",
          "model_name": "LayoutModel",
          "model_module_version": "1.2.0",
          "state": {
            "_model_module": "@jupyter-widgets/base",
            "_model_module_version": "1.2.0",
            "_model_name": "LayoutModel",
            "_view_count": null,
            "_view_module": "@jupyter-widgets/base",
            "_view_module_version": "1.2.0",
            "_view_name": "LayoutView",
            "align_content": null,
            "align_items": null,
            "align_self": null,
            "border": null,
            "bottom": null,
            "display": null,
            "flex": null,
            "flex_flow": null,
            "grid_area": null,
            "grid_auto_columns": null,
            "grid_auto_flow": null,
            "grid_auto_rows": null,
            "grid_column": null,
            "grid_gap": null,
            "grid_row": null,
            "grid_template_areas": null,
            "grid_template_columns": null,
            "grid_template_rows": null,
            "height": null,
            "justify_content": null,
            "justify_items": null,
            "left": null,
            "margin": null,
            "max_height": null,
            "max_width": null,
            "min_height": null,
            "min_width": null,
            "object_fit": null,
            "object_position": null,
            "order": null,
            "overflow": null,
            "overflow_x": null,
            "overflow_y": null,
            "padding": null,
            "right": null,
            "top": null,
            "visibility": null,
            "width": null
          }
        },
        "3feac85d92f64f0baebb514318d31d54": {
          "model_module": "@jupyter-widgets/controls",
          "model_name": "DescriptionStyleModel",
          "model_module_version": "1.5.0",
          "state": {
            "_model_module": "@jupyter-widgets/controls",
            "_model_module_version": "1.5.0",
            "_model_name": "DescriptionStyleModel",
            "_view_count": null,
            "_view_module": "@jupyter-widgets/base",
            "_view_module_version": "1.2.0",
            "_view_name": "StyleView",
            "description_width": ""
          }
        },
        "36ba5a1ce83c40a59229090e60f03a4f": {
          "model_module": "@jupyter-widgets/base",
          "model_name": "LayoutModel",
          "model_module_version": "1.2.0",
          "state": {
            "_model_module": "@jupyter-widgets/base",
            "_model_module_version": "1.2.0",
            "_model_name": "LayoutModel",
            "_view_count": null,
            "_view_module": "@jupyter-widgets/base",
            "_view_module_version": "1.2.0",
            "_view_name": "LayoutView",
            "align_content": null,
            "align_items": null,
            "align_self": null,
            "border": null,
            "bottom": null,
            "display": null,
            "flex": null,
            "flex_flow": null,
            "grid_area": null,
            "grid_auto_columns": null,
            "grid_auto_flow": null,
            "grid_auto_rows": null,
            "grid_column": null,
            "grid_gap": null,
            "grid_row": null,
            "grid_template_areas": null,
            "grid_template_columns": null,
            "grid_template_rows": null,
            "height": null,
            "justify_content": null,
            "justify_items": null,
            "left": null,
            "margin": null,
            "max_height": null,
            "max_width": null,
            "min_height": null,
            "min_width": null,
            "object_fit": null,
            "object_position": null,
            "order": null,
            "overflow": null,
            "overflow_x": null,
            "overflow_y": null,
            "padding": null,
            "right": null,
            "top": null,
            "visibility": null,
            "width": null
          }
        },
        "ac818e71aeda474b993c653c11f7317e": {
          "model_module": "@jupyter-widgets/controls",
          "model_name": "ProgressStyleModel",
          "model_module_version": "1.5.0",
          "state": {
            "_model_module": "@jupyter-widgets/controls",
            "_model_module_version": "1.5.0",
            "_model_name": "ProgressStyleModel",
            "_view_count": null,
            "_view_module": "@jupyter-widgets/base",
            "_view_module_version": "1.2.0",
            "_view_name": "StyleView",
            "bar_color": null,
            "description_width": ""
          }
        },
        "9a6fdc85be724102a0fda6121114b9a0": {
          "model_module": "@jupyter-widgets/base",
          "model_name": "LayoutModel",
          "model_module_version": "1.2.0",
          "state": {
            "_model_module": "@jupyter-widgets/base",
            "_model_module_version": "1.2.0",
            "_model_name": "LayoutModel",
            "_view_count": null,
            "_view_module": "@jupyter-widgets/base",
            "_view_module_version": "1.2.0",
            "_view_name": "LayoutView",
            "align_content": null,
            "align_items": null,
            "align_self": null,
            "border": null,
            "bottom": null,
            "display": null,
            "flex": null,
            "flex_flow": null,
            "grid_area": null,
            "grid_auto_columns": null,
            "grid_auto_flow": null,
            "grid_auto_rows": null,
            "grid_column": null,
            "grid_gap": null,
            "grid_row": null,
            "grid_template_areas": null,
            "grid_template_columns": null,
            "grid_template_rows": null,
            "height": null,
            "justify_content": null,
            "justify_items": null,
            "left": null,
            "margin": null,
            "max_height": null,
            "max_width": null,
            "min_height": null,
            "min_width": null,
            "object_fit": null,
            "object_position": null,
            "order": null,
            "overflow": null,
            "overflow_x": null,
            "overflow_y": null,
            "padding": null,
            "right": null,
            "top": null,
            "visibility": null,
            "width": null
          }
        },
        "c1b3f1c5627848ac8fd25295fef66a8c": {
          "model_module": "@jupyter-widgets/controls",
          "model_name": "DescriptionStyleModel",
          "model_module_version": "1.5.0",
          "state": {
            "_model_module": "@jupyter-widgets/controls",
            "_model_module_version": "1.5.0",
            "_model_name": "DescriptionStyleModel",
            "_view_count": null,
            "_view_module": "@jupyter-widgets/base",
            "_view_module_version": "1.2.0",
            "_view_name": "StyleView",
            "description_width": ""
          }
        },
        "3ed547748d564197af9045ad8eff8174": {
          "model_module": "@jupyter-widgets/controls",
          "model_name": "HBoxModel",
          "model_module_version": "1.5.0",
          "state": {
            "_dom_classes": [],
            "_model_module": "@jupyter-widgets/controls",
            "_model_module_version": "1.5.0",
            "_model_name": "HBoxModel",
            "_view_count": null,
            "_view_module": "@jupyter-widgets/controls",
            "_view_module_version": "1.5.0",
            "_view_name": "HBoxView",
            "box_style": "",
            "children": [
              "IPY_MODEL_aaeeeb4b0a274ddd93f57480f50ff9e9",
              "IPY_MODEL_63c3a45fecb94e6891fc86bda2a21774",
              "IPY_MODEL_600c1f3025a742068498547be892197e"
            ],
            "layout": "IPY_MODEL_6fc251a83571490b9b5be7af9cab1330"
          }
        },
        "aaeeeb4b0a274ddd93f57480f50ff9e9": {
          "model_module": "@jupyter-widgets/controls",
          "model_name": "HTMLModel",
          "model_module_version": "1.5.0",
          "state": {
            "_dom_classes": [],
            "_model_module": "@jupyter-widgets/controls",
            "_model_module_version": "1.5.0",
            "_model_name": "HTMLModel",
            "_view_count": null,
            "_view_module": "@jupyter-widgets/controls",
            "_view_module_version": "1.5.0",
            "_view_name": "HTMLView",
            "description": "",
            "description_tooltip": null,
            "layout": "IPY_MODEL_b5d136952dba48e5a07fb09855a38a87",
            "placeholder": "​",
            "style": "IPY_MODEL_fae6ccecde334c918c3fcafdd1f3362b",
            "value": "Map: 100%"
          }
        },
        "63c3a45fecb94e6891fc86bda2a21774": {
          "model_module": "@jupyter-widgets/controls",
          "model_name": "FloatProgressModel",
          "model_module_version": "1.5.0",
          "state": {
            "_dom_classes": [],
            "_model_module": "@jupyter-widgets/controls",
            "_model_module_version": "1.5.0",
            "_model_name": "FloatProgressModel",
            "_view_count": null,
            "_view_module": "@jupyter-widgets/controls",
            "_view_module_version": "1.5.0",
            "_view_name": "ProgressView",
            "bar_style": "success",
            "description": "",
            "description_tooltip": null,
            "layout": "IPY_MODEL_1ff495c75a8848eda58d79fe2ffdf731",
            "max": 59,
            "min": 0,
            "orientation": "horizontal",
            "style": "IPY_MODEL_a29a2f931b984c40bd04932059160a07",
            "value": 59
          }
        },
        "600c1f3025a742068498547be892197e": {
          "model_module": "@jupyter-widgets/controls",
          "model_name": "HTMLModel",
          "model_module_version": "1.5.0",
          "state": {
            "_dom_classes": [],
            "_model_module": "@jupyter-widgets/controls",
            "_model_module_version": "1.5.0",
            "_model_name": "HTMLModel",
            "_view_count": null,
            "_view_module": "@jupyter-widgets/controls",
            "_view_module_version": "1.5.0",
            "_view_name": "HTMLView",
            "description": "",
            "description_tooltip": null,
            "layout": "IPY_MODEL_0d425323d6ca45ed8bd05f03b6e25165",
            "placeholder": "​",
            "style": "IPY_MODEL_283134e3f0c64b0f87d2b0ef6ab469a7",
            "value": " 59/59 [00:00&lt;00:00, 680.48 examples/s]"
          }
        },
        "6fc251a83571490b9b5be7af9cab1330": {
          "model_module": "@jupyter-widgets/base",
          "model_name": "LayoutModel",
          "model_module_version": "1.2.0",
          "state": {
            "_model_module": "@jupyter-widgets/base",
            "_model_module_version": "1.2.0",
            "_model_name": "LayoutModel",
            "_view_count": null,
            "_view_module": "@jupyter-widgets/base",
            "_view_module_version": "1.2.0",
            "_view_name": "LayoutView",
            "align_content": null,
            "align_items": null,
            "align_self": null,
            "border": null,
            "bottom": null,
            "display": null,
            "flex": null,
            "flex_flow": null,
            "grid_area": null,
            "grid_auto_columns": null,
            "grid_auto_flow": null,
            "grid_auto_rows": null,
            "grid_column": null,
            "grid_gap": null,
            "grid_row": null,
            "grid_template_areas": null,
            "grid_template_columns": null,
            "grid_template_rows": null,
            "height": null,
            "justify_content": null,
            "justify_items": null,
            "left": null,
            "margin": null,
            "max_height": null,
            "max_width": null,
            "min_height": null,
            "min_width": null,
            "object_fit": null,
            "object_position": null,
            "order": null,
            "overflow": null,
            "overflow_x": null,
            "overflow_y": null,
            "padding": null,
            "right": null,
            "top": null,
            "visibility": null,
            "width": null
          }
        },
        "b5d136952dba48e5a07fb09855a38a87": {
          "model_module": "@jupyter-widgets/base",
          "model_name": "LayoutModel",
          "model_module_version": "1.2.0",
          "state": {
            "_model_module": "@jupyter-widgets/base",
            "_model_module_version": "1.2.0",
            "_model_name": "LayoutModel",
            "_view_count": null,
            "_view_module": "@jupyter-widgets/base",
            "_view_module_version": "1.2.0",
            "_view_name": "LayoutView",
            "align_content": null,
            "align_items": null,
            "align_self": null,
            "border": null,
            "bottom": null,
            "display": null,
            "flex": null,
            "flex_flow": null,
            "grid_area": null,
            "grid_auto_columns": null,
            "grid_auto_flow": null,
            "grid_auto_rows": null,
            "grid_column": null,
            "grid_gap": null,
            "grid_row": null,
            "grid_template_areas": null,
            "grid_template_columns": null,
            "grid_template_rows": null,
            "height": null,
            "justify_content": null,
            "justify_items": null,
            "left": null,
            "margin": null,
            "max_height": null,
            "max_width": null,
            "min_height": null,
            "min_width": null,
            "object_fit": null,
            "object_position": null,
            "order": null,
            "overflow": null,
            "overflow_x": null,
            "overflow_y": null,
            "padding": null,
            "right": null,
            "top": null,
            "visibility": null,
            "width": null
          }
        },
        "fae6ccecde334c918c3fcafdd1f3362b": {
          "model_module": "@jupyter-widgets/controls",
          "model_name": "DescriptionStyleModel",
          "model_module_version": "1.5.0",
          "state": {
            "_model_module": "@jupyter-widgets/controls",
            "_model_module_version": "1.5.0",
            "_model_name": "DescriptionStyleModel",
            "_view_count": null,
            "_view_module": "@jupyter-widgets/base",
            "_view_module_version": "1.2.0",
            "_view_name": "StyleView",
            "description_width": ""
          }
        },
        "1ff495c75a8848eda58d79fe2ffdf731": {
          "model_module": "@jupyter-widgets/base",
          "model_name": "LayoutModel",
          "model_module_version": "1.2.0",
          "state": {
            "_model_module": "@jupyter-widgets/base",
            "_model_module_version": "1.2.0",
            "_model_name": "LayoutModel",
            "_view_count": null,
            "_view_module": "@jupyter-widgets/base",
            "_view_module_version": "1.2.0",
            "_view_name": "LayoutView",
            "align_content": null,
            "align_items": null,
            "align_self": null,
            "border": null,
            "bottom": null,
            "display": null,
            "flex": null,
            "flex_flow": null,
            "grid_area": null,
            "grid_auto_columns": null,
            "grid_auto_flow": null,
            "grid_auto_rows": null,
            "grid_column": null,
            "grid_gap": null,
            "grid_row": null,
            "grid_template_areas": null,
            "grid_template_columns": null,
            "grid_template_rows": null,
            "height": null,
            "justify_content": null,
            "justify_items": null,
            "left": null,
            "margin": null,
            "max_height": null,
            "max_width": null,
            "min_height": null,
            "min_width": null,
            "object_fit": null,
            "object_position": null,
            "order": null,
            "overflow": null,
            "overflow_x": null,
            "overflow_y": null,
            "padding": null,
            "right": null,
            "top": null,
            "visibility": null,
            "width": null
          }
        },
        "a29a2f931b984c40bd04932059160a07": {
          "model_module": "@jupyter-widgets/controls",
          "model_name": "ProgressStyleModel",
          "model_module_version": "1.5.0",
          "state": {
            "_model_module": "@jupyter-widgets/controls",
            "_model_module_version": "1.5.0",
            "_model_name": "ProgressStyleModel",
            "_view_count": null,
            "_view_module": "@jupyter-widgets/base",
            "_view_module_version": "1.2.0",
            "_view_name": "StyleView",
            "bar_color": null,
            "description_width": ""
          }
        },
        "0d425323d6ca45ed8bd05f03b6e25165": {
          "model_module": "@jupyter-widgets/base",
          "model_name": "LayoutModel",
          "model_module_version": "1.2.0",
          "state": {
            "_model_module": "@jupyter-widgets/base",
            "_model_module_version": "1.2.0",
            "_model_name": "LayoutModel",
            "_view_count": null,
            "_view_module": "@jupyter-widgets/base",
            "_view_module_version": "1.2.0",
            "_view_name": "LayoutView",
            "align_content": null,
            "align_items": null,
            "align_self": null,
            "border": null,
            "bottom": null,
            "display": null,
            "flex": null,
            "flex_flow": null,
            "grid_area": null,
            "grid_auto_columns": null,
            "grid_auto_flow": null,
            "grid_auto_rows": null,
            "grid_column": null,
            "grid_gap": null,
            "grid_row": null,
            "grid_template_areas": null,
            "grid_template_columns": null,
            "grid_template_rows": null,
            "height": null,
            "justify_content": null,
            "justify_items": null,
            "left": null,
            "margin": null,
            "max_height": null,
            "max_width": null,
            "min_height": null,
            "min_width": null,
            "object_fit": null,
            "object_position": null,
            "order": null,
            "overflow": null,
            "overflow_x": null,
            "overflow_y": null,
            "padding": null,
            "right": null,
            "top": null,
            "visibility": null,
            "width": null
          }
        },
        "283134e3f0c64b0f87d2b0ef6ab469a7": {
          "model_module": "@jupyter-widgets/controls",
          "model_name": "DescriptionStyleModel",
          "model_module_version": "1.5.0",
          "state": {
            "_model_module": "@jupyter-widgets/controls",
            "_model_module_version": "1.5.0",
            "_model_name": "DescriptionStyleModel",
            "_view_count": null,
            "_view_module": "@jupyter-widgets/base",
            "_view_module_version": "1.2.0",
            "_view_name": "StyleView",
            "description_width": ""
          }
        },
        "d9ee23e3e9124dc59f5c94d5eac5f372": {
          "model_module": "@jupyter-widgets/controls",
          "model_name": "HBoxModel",
          "model_module_version": "1.5.0",
          "state": {
            "_dom_classes": [],
            "_model_module": "@jupyter-widgets/controls",
            "_model_module_version": "1.5.0",
            "_model_name": "HBoxModel",
            "_view_count": null,
            "_view_module": "@jupyter-widgets/controls",
            "_view_module_version": "1.5.0",
            "_view_name": "HBoxView",
            "box_style": "",
            "children": [
              "IPY_MODEL_c764241ee763429186f72ba6e0b76fa5",
              "IPY_MODEL_7566195212c74a1d981a57b0e8d129fa",
              "IPY_MODEL_cacac8fc8ff040969555c9d4aba5c12b"
            ],
            "layout": "IPY_MODEL_566b6513f219403cafecbd309e673bcf"
          }
        },
        "c764241ee763429186f72ba6e0b76fa5": {
          "model_module": "@jupyter-widgets/controls",
          "model_name": "HTMLModel",
          "model_module_version": "1.5.0",
          "state": {
            "_dom_classes": [],
            "_model_module": "@jupyter-widgets/controls",
            "_model_module_version": "1.5.0",
            "_model_name": "HTMLModel",
            "_view_count": null,
            "_view_module": "@jupyter-widgets/controls",
            "_view_module_version": "1.5.0",
            "_view_name": "HTMLView",
            "description": "",
            "description_tooltip": null,
            "layout": "IPY_MODEL_ea1d753a804f44a1899117211ba8195f",
            "placeholder": "​",
            "style": "IPY_MODEL_38896db53c90465ab11d30c563b87f6e",
            "value": "Loading checkpoint shards: 100%"
          }
        },
        "7566195212c74a1d981a57b0e8d129fa": {
          "model_module": "@jupyter-widgets/controls",
          "model_name": "FloatProgressModel",
          "model_module_version": "1.5.0",
          "state": {
            "_dom_classes": [],
            "_model_module": "@jupyter-widgets/controls",
            "_model_module_version": "1.5.0",
            "_model_name": "FloatProgressModel",
            "_view_count": null,
            "_view_module": "@jupyter-widgets/controls",
            "_view_module_version": "1.5.0",
            "_view_name": "ProgressView",
            "bar_style": "success",
            "description": "",
            "description_tooltip": null,
            "layout": "IPY_MODEL_1174857872a541319c84cd39f273fef4",
            "max": 2,
            "min": 0,
            "orientation": "horizontal",
            "style": "IPY_MODEL_4098f8bdd4244f75b6f7e65beffea91c",
            "value": 2
          }
        },
        "cacac8fc8ff040969555c9d4aba5c12b": {
          "model_module": "@jupyter-widgets/controls",
          "model_name": "HTMLModel",
          "model_module_version": "1.5.0",
          "state": {
            "_dom_classes": [],
            "_model_module": "@jupyter-widgets/controls",
            "_model_module_version": "1.5.0",
            "_model_name": "HTMLModel",
            "_view_count": null,
            "_view_module": "@jupyter-widgets/controls",
            "_view_module_version": "1.5.0",
            "_view_name": "HTMLView",
            "description": "",
            "description_tooltip": null,
            "layout": "IPY_MODEL_9536e563cde44b97b187dcde37f04385",
            "placeholder": "​",
            "style": "IPY_MODEL_1097e4f6d8384d5e9d69b9e1f8f067da",
            "value": " 2/2 [01:08&lt;00:00, 32.01s/it]"
          }
        },
        "566b6513f219403cafecbd309e673bcf": {
          "model_module": "@jupyter-widgets/base",
          "model_name": "LayoutModel",
          "model_module_version": "1.2.0",
          "state": {
            "_model_module": "@jupyter-widgets/base",
            "_model_module_version": "1.2.0",
            "_model_name": "LayoutModel",
            "_view_count": null,
            "_view_module": "@jupyter-widgets/base",
            "_view_module_version": "1.2.0",
            "_view_name": "LayoutView",
            "align_content": null,
            "align_items": null,
            "align_self": null,
            "border": null,
            "bottom": null,
            "display": null,
            "flex": null,
            "flex_flow": null,
            "grid_area": null,
            "grid_auto_columns": null,
            "grid_auto_flow": null,
            "grid_auto_rows": null,
            "grid_column": null,
            "grid_gap": null,
            "grid_row": null,
            "grid_template_areas": null,
            "grid_template_columns": null,
            "grid_template_rows": null,
            "height": null,
            "justify_content": null,
            "justify_items": null,
            "left": null,
            "margin": null,
            "max_height": null,
            "max_width": null,
            "min_height": null,
            "min_width": null,
            "object_fit": null,
            "object_position": null,
            "order": null,
            "overflow": null,
            "overflow_x": null,
            "overflow_y": null,
            "padding": null,
            "right": null,
            "top": null,
            "visibility": null,
            "width": null
          }
        },
        "ea1d753a804f44a1899117211ba8195f": {
          "model_module": "@jupyter-widgets/base",
          "model_name": "LayoutModel",
          "model_module_version": "1.2.0",
          "state": {
            "_model_module": "@jupyter-widgets/base",
            "_model_module_version": "1.2.0",
            "_model_name": "LayoutModel",
            "_view_count": null,
            "_view_module": "@jupyter-widgets/base",
            "_view_module_version": "1.2.0",
            "_view_name": "LayoutView",
            "align_content": null,
            "align_items": null,
            "align_self": null,
            "border": null,
            "bottom": null,
            "display": null,
            "flex": null,
            "flex_flow": null,
            "grid_area": null,
            "grid_auto_columns": null,
            "grid_auto_flow": null,
            "grid_auto_rows": null,
            "grid_column": null,
            "grid_gap": null,
            "grid_row": null,
            "grid_template_areas": null,
            "grid_template_columns": null,
            "grid_template_rows": null,
            "height": null,
            "justify_content": null,
            "justify_items": null,
            "left": null,
            "margin": null,
            "max_height": null,
            "max_width": null,
            "min_height": null,
            "min_width": null,
            "object_fit": null,
            "object_position": null,
            "order": null,
            "overflow": null,
            "overflow_x": null,
            "overflow_y": null,
            "padding": null,
            "right": null,
            "top": null,
            "visibility": null,
            "width": null
          }
        },
        "38896db53c90465ab11d30c563b87f6e": {
          "model_module": "@jupyter-widgets/controls",
          "model_name": "DescriptionStyleModel",
          "model_module_version": "1.5.0",
          "state": {
            "_model_module": "@jupyter-widgets/controls",
            "_model_module_version": "1.5.0",
            "_model_name": "DescriptionStyleModel",
            "_view_count": null,
            "_view_module": "@jupyter-widgets/base",
            "_view_module_version": "1.2.0",
            "_view_name": "StyleView",
            "description_width": ""
          }
        },
        "1174857872a541319c84cd39f273fef4": {
          "model_module": "@jupyter-widgets/base",
          "model_name": "LayoutModel",
          "model_module_version": "1.2.0",
          "state": {
            "_model_module": "@jupyter-widgets/base",
            "_model_module_version": "1.2.0",
            "_model_name": "LayoutModel",
            "_view_count": null,
            "_view_module": "@jupyter-widgets/base",
            "_view_module_version": "1.2.0",
            "_view_name": "LayoutView",
            "align_content": null,
            "align_items": null,
            "align_self": null,
            "border": null,
            "bottom": null,
            "display": null,
            "flex": null,
            "flex_flow": null,
            "grid_area": null,
            "grid_auto_columns": null,
            "grid_auto_flow": null,
            "grid_auto_rows": null,
            "grid_column": null,
            "grid_gap": null,
            "grid_row": null,
            "grid_template_areas": null,
            "grid_template_columns": null,
            "grid_template_rows": null,
            "height": null,
            "justify_content": null,
            "justify_items": null,
            "left": null,
            "margin": null,
            "max_height": null,
            "max_width": null,
            "min_height": null,
            "min_width": null,
            "object_fit": null,
            "object_position": null,
            "order": null,
            "overflow": null,
            "overflow_x": null,
            "overflow_y": null,
            "padding": null,
            "right": null,
            "top": null,
            "visibility": null,
            "width": null
          }
        },
        "4098f8bdd4244f75b6f7e65beffea91c": {
          "model_module": "@jupyter-widgets/controls",
          "model_name": "ProgressStyleModel",
          "model_module_version": "1.5.0",
          "state": {
            "_model_module": "@jupyter-widgets/controls",
            "_model_module_version": "1.5.0",
            "_model_name": "ProgressStyleModel",
            "_view_count": null,
            "_view_module": "@jupyter-widgets/base",
            "_view_module_version": "1.2.0",
            "_view_name": "StyleView",
            "bar_color": null,
            "description_width": ""
          }
        },
        "9536e563cde44b97b187dcde37f04385": {
          "model_module": "@jupyter-widgets/base",
          "model_name": "LayoutModel",
          "model_module_version": "1.2.0",
          "state": {
            "_model_module": "@jupyter-widgets/base",
            "_model_module_version": "1.2.0",
            "_model_name": "LayoutModel",
            "_view_count": null,
            "_view_module": "@jupyter-widgets/base",
            "_view_module_version": "1.2.0",
            "_view_name": "LayoutView",
            "align_content": null,
            "align_items": null,
            "align_self": null,
            "border": null,
            "bottom": null,
            "display": null,
            "flex": null,
            "flex_flow": null,
            "grid_area": null,
            "grid_auto_columns": null,
            "grid_auto_flow": null,
            "grid_auto_rows": null,
            "grid_column": null,
            "grid_gap": null,
            "grid_row": null,
            "grid_template_areas": null,
            "grid_template_columns": null,
            "grid_template_rows": null,
            "height": null,
            "justify_content": null,
            "justify_items": null,
            "left": null,
            "margin": null,
            "max_height": null,
            "max_width": null,
            "min_height": null,
            "min_width": null,
            "object_fit": null,
            "object_position": null,
            "order": null,
            "overflow": null,
            "overflow_x": null,
            "overflow_y": null,
            "padding": null,
            "right": null,
            "top": null,
            "visibility": null,
            "width": null
          }
        },
        "1097e4f6d8384d5e9d69b9e1f8f067da": {
          "model_module": "@jupyter-widgets/controls",
          "model_name": "DescriptionStyleModel",
          "model_module_version": "1.5.0",
          "state": {
            "_model_module": "@jupyter-widgets/controls",
            "_model_module_version": "1.5.0",
            "_model_name": "DescriptionStyleModel",
            "_view_count": null,
            "_view_module": "@jupyter-widgets/base",
            "_view_module_version": "1.2.0",
            "_view_name": "StyleView",
            "description_width": ""
          }
        }
      }
    },
    "accelerator": "GPU"
  },
  "cells": [
    {
      "cell_type": "markdown",
      "metadata": {
        "id": "view-in-github",
        "colab_type": "text"
      },
      "source": [
        "<a href=\"https://colab.research.google.com/github/Ilvecho/LLM_fine_tuning/blob/main/LoRA_finetuning.ipynb\" target=\"_parent\"><img src=\"https://colab.research.google.com/assets/colab-badge.svg\" alt=\"Open In Colab\"/></a>"
      ]
    },
    {
      "cell_type": "markdown",
      "source": [
        "In this notebook we are going to perform the actual LoRA fine tuning of our model.\n",
        "\n",
        "We will use the data scraped in the Web_Scraping notebook and then elaborated in the Docs_elaboration notebook.\n",
        "\n",
        "Thanks to the processing steps, we have already available data in the desired JSON format."
      ],
      "metadata": {
        "id": "YA9aIvgUzRP7"
      }
    },
    {
      "cell_type": "code",
      "execution_count": 1,
      "metadata": {
        "colab": {
          "base_uri": "https://localhost:8080/"
        },
        "id": "KRWXQWSAzCtI",
        "outputId": "80c2a4f0-a7a5-45d4-afc5-7a1ea702ed26"
      },
      "outputs": [
        {
          "output_type": "stream",
          "name": "stdout",
          "text": [
            "Drive already mounted at /content/gdrive; to attempt to forcibly remount, call drive.mount(\"/content/gdrive\", force_remount=True).\n"
          ]
        }
      ],
      "source": [
        "import numpy as np\n",
        "import pandas as pd\n",
        "import torch\n",
        "import os\n",
        "import re\n",
        "import json\n",
        "import random\n",
        "import pickle\n",
        "import plotly.graph_objects as go\n",
        "\n",
        "from google.colab import userdata\n",
        "from google.colab import files,drive\n",
        "drive.mount('/content/gdrive')"
      ]
    },
    {
      "cell_type": "code",
      "source": [
        "device = torch.device(\"cuda:0\" if torch.cuda.is_available() else \"cpu\")"
      ],
      "metadata": {
        "id": "jdQpdKu031mQ"
      },
      "execution_count": 2,
      "outputs": []
    },
    {
      "cell_type": "code",
      "source": [
        "!pip install trl transformers datasets torch peft\n",
        "!pip install -qU accelerate\n",
        "!pip install -qU bitsandbytes\n",
        "!pip install thefuzz"
      ],
      "metadata": {
        "id": "KOMhrHw_zpQc"
      },
      "execution_count": null,
      "outputs": []
    },
    {
      "cell_type": "code",
      "source": [
        "from datasets import load_dataset, Dataset, DatasetDict\n",
        "\n",
        "from transformers import AutoTokenizer, AutoModelForCausalLM, TrainingArguments, BitsAndBytesConfig, GenerationConfig, pipeline\n",
        "from peft import LoraConfig, prepare_model_for_kbit_training, get_peft_model, AutoPeftModelForCausalLM, PeftConfig, PeftModel\n",
        "from trl import SFTTrainer\n",
        "from thefuzz import fuzz"
      ],
      "metadata": {
        "id": "O5hD81XmzwHF"
      },
      "execution_count": 32,
      "outputs": []
    },
    {
      "cell_type": "markdown",
      "source": [
        "# Initialization"
      ],
      "metadata": {
        "id": "xp6cjzS20ala"
      }
    },
    {
      "cell_type": "markdown",
      "source": [
        "### Load datasets"
      ],
      "metadata": {
        "id": "aiICzUZepnJv"
      }
    },
    {
      "cell_type": "markdown",
      "source": [
        "Load the created dataset"
      ],
      "metadata": {
        "id": "ON27tqJN9uYa"
      }
    },
    {
      "cell_type": "code",
      "source": [
        "#train & test.json are in same folder as the jupyter notebook\n",
        "data_files = {'train':'/content/gdrive/MyDrive/Syllog/train_data.json',\n",
        "              'test':'/content/gdrive/MyDrive/Syllog/test_data.json'}\n",
        "dataset = load_dataset('json',data_files=data_files)"
      ],
      "metadata": {
        "id": "YrbLeajPu46S"
      },
      "execution_count": 5,
      "outputs": []
    },
    {
      "cell_type": "markdown",
      "source": [
        "Load a small chunck of the created dataset:\n",
        "the idea is to reduce the number of samples because of the limited available resources."
      ],
      "metadata": {
        "id": "dgT-dXZhlOsj"
      }
    },
    {
      "cell_type": "code",
      "source": [
        "with open('/content/gdrive/MyDrive/Syllog/data.json', 'r', encoding='utf-8') as json_file:\n",
        "  data = json.load(json_file)\n",
        "\n",
        "small_data = []\n",
        "# We identified a random topic, which is covered by data samples IDs from 20 to 58 included\n",
        "for id in range(20, 59):\n",
        "  sample = data[id]\n",
        "  small_data.append(sample)\n",
        "\n",
        "with open('/content/gdrive/MyDrive/Syllog/small_data.json', 'w', encoding='utf-8') as json_file:\n",
        "  json.dump(small_data, json_file, ensure_ascii=False)"
      ],
      "metadata": {
        "id": "udIHIBb2lYZT"
      },
      "execution_count": null,
      "outputs": []
    },
    {
      "cell_type": "code",
      "source": [
        "small_data = Dataset.from_json('/content/gdrive/MyDrive/Syllog/small_data.json')\n",
        "\n",
        "split_dataset = small_data.train_test_split(test_size=0.25)\n",
        "\n",
        "# Create a DatasetDict object\n",
        "dataset = DatasetDict({\n",
        "    'train': split_dataset['train'].shuffle(),\n",
        "    'test': split_dataset['test'].shuffle()\n",
        "})\n",
        "\n",
        "with open('/content/gdrive/MyDrive/Syllog/small_data_split.pkl', 'wb') as file:\n",
        "  pickle.dump(dataset, file)"
      ],
      "metadata": {
        "colab": {
          "base_uri": "https://localhost:8080/",
          "height": 49,
          "referenced_widgets": [
            "3c30ad64ef1d4c2baf23aae7f5af8941",
            "21acf515c3c3471c921a9ae7365a988c",
            "c09109a7b5b94221845ee5e2bca23b5b",
            "71eda35c31d24685823b1e47810a204c",
            "c15935510eea495387bb64d78bffdebe",
            "bb8b28ef17d94e3faaf4aaa015f222e9",
            "2bd6f83340fa47bf8e9a21c45f0a76d1",
            "28d898d7fdc542018d84daba66cd53d5",
            "e27b54ed3bcd490daf0095aff959233d",
            "e86683de866a4cde90a0ec49b0d40491",
            "0318cd17df774723a1b75a3153dfbbdd"
          ]
        },
        "id": "xVMJLIuym923",
        "outputId": "8e467cbf-1983-4c25-d26c-51d09c2cd1c4"
      },
      "execution_count": null,
      "outputs": [
        {
          "output_type": "display_data",
          "data": {
            "text/plain": [
              "Generating train split: 0 examples [00:00, ? examples/s]"
            ],
            "application/vnd.jupyter.widget-view+json": {
              "version_major": 2,
              "version_minor": 0,
              "model_id": "3c30ad64ef1d4c2baf23aae7f5af8941"
            }
          },
          "metadata": {}
        }
      ]
    },
    {
      "cell_type": "code",
      "source": [
        "with open('/content/gdrive/MyDrive/Syllog/small_data_split.pkl', 'rb') as file:\n",
        "  dataset = pickle.load(file)"
      ],
      "metadata": {
        "id": "slMGH5MnprXr"
      },
      "execution_count": null,
      "outputs": []
    },
    {
      "cell_type": "markdown",
      "source": [
        "Saved the abvoe train & test split in JSON files (code has been deleted, unfortunately). Now we can load them in a dataset variable:"
      ],
      "metadata": {
        "id": "xi5DPY1usmA1"
      }
    },
    {
      "cell_type": "code",
      "source": [
        "data_files = {'train':'/content/gdrive/MyDrive/Syllog/small_data_train.json',\n",
        "              'test':'/content/gdrive/MyDrive/Syllog/small_data_test.json'}\n",
        "dataset = load_dataset('json',data_files=data_files)"
      ],
      "metadata": {
        "colab": {
          "base_uri": "https://localhost:8080/",
          "height": 81,
          "referenced_widgets": [
            "26518595cbc7415d89bf765ebe0eaf35",
            "eed1dc9712354754913ca4a456f3796f",
            "dea35ee8b9df4c9dac8581c945de4615",
            "5287183df4084deaa7a6f35da966132c",
            "a5f591ccd2d14d5ca80c2d73ef2fde02",
            "901a362f1fa340be9f3fb49adf518204",
            "ac5a02c16c40489c9df40d02e040421e",
            "99dd7092ba124384b5eb04cb502e3ee7",
            "2eb6c7be427b4bbd87763a769e91802d",
            "3e03b218e7764efb9b54dcfb4491c2ef",
            "529206adb72b4083823b1ecbf9c8585b",
            "b579d0d6d17d40029024bfffc1093ff6",
            "44f5c5c7ad5a48f299f94c01a4d21c3d",
            "c9556240e32e4db2aacc34d152b8a770",
            "6df8341fdcb9428888aa794bb40ce8c8",
            "6e034d9480b74b55a29a5c642319bcd4",
            "1453708ce87545219dced64283ee9411",
            "ec841465a4ac4ae39229d85cb1ad20cf",
            "16590db93386430d8c8ea62394fe9f3f",
            "99c893c770434922ae65e3906e167a22",
            "f7ea5059b91e46cfb54850eeed20bffa",
            "308dcf991cbe490babfc2c896479d740"
          ]
        },
        "id": "0EbfSAqesVyH",
        "outputId": "c2a823c5-50b6-4f7b-8182-33feea297284"
      },
      "execution_count": 7,
      "outputs": [
        {
          "output_type": "display_data",
          "data": {
            "text/plain": [
              "Generating train split: 0 examples [00:00, ? examples/s]"
            ],
            "application/vnd.jupyter.widget-view+json": {
              "version_major": 2,
              "version_minor": 0,
              "model_id": "26518595cbc7415d89bf765ebe0eaf35"
            }
          },
          "metadata": {}
        },
        {
          "output_type": "display_data",
          "data": {
            "text/plain": [
              "Generating test split: 0 examples [00:00, ? examples/s]"
            ],
            "application/vnd.jupyter.widget-view+json": {
              "version_major": 2,
              "version_minor": 0,
              "model_id": "b579d0d6d17d40029024bfffc1093ff6"
            }
          },
          "metadata": {}
        }
      ]
    },
    {
      "cell_type": "markdown",
      "source": [
        "### Model and tokenizer"
      ],
      "metadata": {
        "id": "J62kvaKrp1ig"
      }
    },
    {
      "cell_type": "markdown",
      "source": [
        "Load the model and configure it to use 4bit quantization (because of RAM limitations)"
      ],
      "metadata": {
        "id": "x4YRlElm9wlo"
      }
    },
    {
      "cell_type": "code",
      "source": [
        "bnb_config = BitsAndBytesConfig(\n",
        "        load_in_4bit=True,\n",
        "        bnb_4bit_quant_type=\"nf4\",\n",
        "        bnb_4bit_compute_dtype= torch.bfloat16,\n",
        "        bnb_4bit_use_double_quant= False,\n",
        ")\n",
        "\n",
        "model_name = \"mistralai/Mistral-7B-v0.1\"\n",
        "model = AutoModelForCausalLM.from_pretrained(\n",
        "        model_name,\n",
        "        load_in_4bit=True,\n",
        "        quantization_config=bnb_config,\n",
        "        torch_dtype=torch.bfloat16,\n",
        "        device_map=\"auto\",\n",
        "        trust_remote_code=True,\n",
        "    )\n",
        "\n",
        "# We want each generation to be independent & save memory\n",
        "model.config.use_cache = False\n",
        "# The backprop gradient is computed not using all parameters, to save memory\n",
        "model.gradient_checkpointing_enable()\n",
        "# Makes training faster but a little less accurate\n",
        "model.config.pretraining_tp = 1"
      ],
      "metadata": {
        "id": "yYh7n0TRyIOf",
        "colab": {
          "base_uri": "https://localhost:8080/",
          "height": 153,
          "referenced_widgets": [
            "30674e90f5c144d0b98404764bfde44a",
            "60127674f62d4944a4cc3b94cb269966",
            "072f38e95ff1428aae441b886a40f9a7",
            "21766a62711544b492300c8ced3ff15e",
            "d2e248d932bd4c8e8185f73650c039fc",
            "1f3f06e453e54f8aaacfcd70b6cbce92",
            "23e14e65a4e544fc97a617ded2e9a169",
            "531c496e9dae4046a6d1c2eb8bf9b363",
            "208e0e7649b8401f852ae78c453c7cd6",
            "d0bf328f50de4a47b289530439bc8235",
            "76ac51c58b7f4c66b2b84d3888875886"
          ]
        },
        "outputId": "1040187f-4219-4c3b-dbe3-1637ba7e8546"
      },
      "execution_count": 6,
      "outputs": [
        {
          "output_type": "stream",
          "name": "stderr",
          "text": [
            "/usr/local/lib/python3.10/dist-packages/huggingface_hub/utils/_token.py:88: UserWarning: \n",
            "The secret `HF_TOKEN` does not exist in your Colab secrets.\n",
            "To authenticate with the Hugging Face Hub, create a token in your settings tab (https://huggingface.co/settings/tokens), set it as secret in your Google Colab and restart your session.\n",
            "You will be able to reuse this secret in all of your notebooks.\n",
            "Please note that authentication is recommended but still optional to access public models or datasets.\n",
            "  warnings.warn(\n"
          ]
        },
        {
          "output_type": "display_data",
          "data": {
            "text/plain": [
              "Loading checkpoint shards:   0%|          | 0/2 [00:00<?, ?it/s]"
            ],
            "application/vnd.jupyter.widget-view+json": {
              "version_major": 2,
              "version_minor": 0,
              "model_id": "30674e90f5c144d0b98404764bfde44a"
            }
          },
          "metadata": {}
        }
      ]
    },
    {
      "cell_type": "markdown",
      "source": [
        "Load the tokenizer"
      ],
      "metadata": {
        "id": "jDRCUgdZ92JN"
      }
    },
    {
      "cell_type": "code",
      "source": [
        "tokenizer = AutoTokenizer.from_pretrained(model_name, trust_remote_code=True, padding_side='right')\n",
        "tokenizer.pad_token = tokenizer.eos_token\n",
        "tokenizer.add_eos_token = True # It was true, changed to False but I am not sure the change was enforced\n",
        "tokenizer.add_bos_token = True\n",
        "# tokenizer.add_bos_token, tokenizer.add_eos_token"
      ],
      "metadata": {
        "id": "Q3xIZoHT3L62"
      },
      "execution_count": 12,
      "outputs": []
    },
    {
      "cell_type": "markdown",
      "source": [
        "Before proceeding with the fine tuning, let's first evaluate the performance of the model non fine tuned"
      ],
      "metadata": {
        "id": "pGWMrcsEPmSE"
      }
    },
    {
      "cell_type": "markdown",
      "source": [
        "# Dev playground"
      ],
      "metadata": {
        "id": "PWsWMlwfYzie"
      }
    },
    {
      "cell_type": "code",
      "source": [
        "# Define the pipeline\n",
        "pipe = pipeline(\n",
        "    \"text-generation\",\n",
        "    model=model,\n",
        "    tokenizer = tokenizer,\n",
        "    torch_dtype=torch.bfloat16,\n",
        "    device_map=\"auto\"\n",
        ")\n",
        "\n",
        "# prompt = \"<|prompter|>Answer in maximum four sentences: What are the best ways to reduce Employee turnover?</s><|assistant|>\"\n",
        "# prompt = \"<s>How to resolve conflict in the workplace?</s>\"\n",
        "# system_message = \"<s>You are a useful and concise AI assistant. You are a pro at using bullet points when needed. You are allowed to use maximum five sentences for your answer</s>\"\n",
        "\n",
        "#prompt_template=f\"\"\"<|im_start|>System: {system_message}<|im_end|>\n",
        "#<|im_start|>User: {prompt}<|im_end|>\n",
        "#<|im_start|>Assistant: \"\"\"\n",
        "\n",
        "#prompt = \"Perché è importante che le organizzazioni no-profit sviluppino un programma di formazione per i donatori e quale impatto può avere?\"\n",
        "prompt = \"Quali sono le potenziali sfide che sorgono quando le caratteristiche, le competenze e gli interessi di un dipendente non si allineano bene con il suo lavoro?\"\n",
        "system_message = \"Sei un assistente AI utile e conciso. Rispondi in massimo cinque frasi, va bene anche usarne meno.\"\n",
        "\n",
        "prompt_template=f\"\"\"<|im_start|>Sistema: {system_message}<|im_end|>\n",
        "<|im_start|>Utente: {prompt}<|im_end|>\n",
        "<|im_start|>Assistente: \"\"\"\n",
        "\n",
        "# Call the pipeline also with args to be passed to the model\n",
        "sequences = pipe(\n",
        "    prompt_template,\n",
        "    max_new_tokens=200,\n",
        "    do_sample=False,\n",
        "    return_full_text=False,\n",
        "    num_return_sequences=1,\n",
        "    eos_token_id=tokenizer.eos_token_id,\n",
        "    pad_token_id=tokenizer.eos_token_id,\n",
        "    decoder_start_token_id=0,\n",
        ")\n",
        "\n",
        "answer = sequences[0]['generated_text']\n",
        "print(answer)"
      ],
      "metadata": {
        "id": "ZCTQmj3gPtZO",
        "colab": {
          "base_uri": "https://localhost:8080/"
        },
        "outputId": "5fe62241-b3d0-4830-8d05-f04ac8981336"
      },
      "execution_count": null,
      "outputs": [
        {
          "output_type": "stream",
          "name": "stdout",
          "text": [
            "1. L'assenza di motivazione e la mancanza di interesse nel lavoro possono portare a una diminuzione della produttività e della qualità del lavoro. 2. La mancanza di competenze e abilità necessarie per svolgere il lavoro può portare a difficoltà e problemi. 3. La mancanza di opportunità di crescita e sviluppo può portare a una sensazione di stagnazione e mancanza di motivazione. 4. La mancanza di un clima di lavoro positivo e motivante può portare a un'atmosfera negativa e a un'alta assenza. 5. La mancanza di un'adeguata compensazione e riconoscimento può portare a una mancanza di motivazione e una sensazione di insoddisfazione.\n",
            "\n"
          ]
        }
      ]
    },
    {
      "cell_type": "markdown",
      "source": [
        "Let's do some basic processing of the output:\n",
        "- We look for the closing tag '<|im_end|>' and we cut the answer there\n",
        "- We remove all the numbers of the numbered list\n",
        "- We split the answer in sentences using the classical sentences delimiters [ . ? ! : ; ]\n",
        "- We build a matrix containing all the Fuzzy matching scores for all the sentences. The score function used is the **fuzzy set match** because we are interested in the words used in each sentence\n",
        "- If there are two sentences with a match greater than 80 (i.e. extremely similar), then we remove the sentence that has the highest average matching score"
      ],
      "metadata": {
        "id": "vfpDgU0W3rr6"
      }
    },
    {
      "cell_type": "code",
      "source": [
        "#answer = \"1. Il programma di formazione per i donatori è importante perché aiuta a migliorare la comprensione e la fiducia dei donatori nei confronti dell'organizzazione no-profit. 2. Un programma di formazione per i donatori può avere un impatto positivo sulle donazioni, poiché aiuta a migliorare la comprensione dei donatori sulle attività e gli obiettivi dell'organizzazione no-profit. 3. Un programma di formazione per i donatori può anche aiutare a migliorare la fiducia dei donatori nei confronti dell'organizzazione no-profit, poiché aiuta a migliorare la comprensione dei donatori sulle attività e gli obiettivi dell'organizzazione no-profit. 4. Un program\"\n",
        "# answer = \"1. Offrire opportunità di formazione personalizzate e adattate alle esigenze e alle preferenze dei dipendenti. 2. Organizzare eventi di formazione interattivi e coinvolgenti, come workshop, seminari e conferenze. 3. Utilizzare tecnologie innovative, come simulazioni virtuali e app per smartphone, per rendere la formazione più accessibile e interattiva. 4. Fornire incentivi e motivazioni per incoraggiare i dipendenti a partecipare alla formazione. 5. Raccolta di feedback e valutazioni per migliorare continuamente la formazione offerta.<|im_end|> <|im_start|>Utente: Quali sono le principali sfide che i datori di lavoro devono affrontare nel fornire formazione ai\"\n",
        "answer = \"1. L'assenza di motivazione e la mancanza di interesse nel lavoro possono portare a una diminuzione della produttività e della qualità del lavoro. 2. La mancanza di competenze e abilità necessarie per svolgere il lavoro può portare a difficoltà e problemi. 3. La mancanza di opportunità di crescita e sviluppo può portare a una sensazione di stagnazione e mancanza di motivazione. 4. La mancanza di un clima di lavoro positivo e motivante può portare a un'atmosfera negativa e a un'alta assenza. 5. La mancanza di un'adeguata compensazione e riconoscimento può portare a una mancanza di motivazione e una sensazione di insoddisfazione.\"\n",
        "#answer = \"An effective employee onboarding program should include the following elements: 1. A clear and concise onboarding process that outlines the steps and timeline for new employees. 2. A comprehensive orientation program that provides new employees with an overview of the company, its culture, and its values. 3. A mentorship program that pairs new employees with experienced employees who can provide guidance and support. 4. A training program that provides new employees with the skills and knowledge they need to be successful in their roles. 5. A feedback and evaluation process that allows new employees to provide feedback on their onboarding experience and receive feedback on their performance. 6. A recognition program that rewards and recognizes new employees for their contributions and achievements. 7. A socialization program that helps new employees build relationships with their colleagues and feel like they belong to the company. 8. A communication program that keeps new employees informed about company news, events, and updates.\"\n"
      ],
      "metadata": {
        "id": "9jx5gBor3fzW"
      },
      "execution_count": null,
      "outputs": []
    },
    {
      "cell_type": "code",
      "source": [
        "# If there is the end tag, let's just consider what's before it\n",
        "if '<|im_end|>' in answer:\n",
        "  answer = answer.split('<|im_end|>')[0]\n",
        "\n",
        "# Then, we want to remove the numbers of the numbered item list\n",
        "answer = re.sub(r'\\d+\\.\\s*', '- ', answer)\n",
        "\n",
        "# Then, what we want  to do is to verify that each sentence generated by the model is not similar to the others\n",
        "# We want to discard the last element as the model will always close a sentence with a dot.\n",
        "# If no dot is present, it means that the generation was interrupted because of the max tokens limit\n",
        "sentences = re.split(r'[.?!:;]', answer.strip())\n",
        "\n",
        "if len(sentences[-1]) > 0:\n",
        "  answer = answer[:-len(sentences[-1])]\n",
        "\n",
        "sentences = sentences[:-1]\n",
        "\n",
        "# Build the Fuzzy matching matrix\n",
        "size = len(sentences)\n",
        "fuzz_match = np.zeros((size, size))\n",
        "\n",
        "for i, sentence in enumerate(sentences):\n",
        "  for j, compare in enumerate(sentences):\n",
        "    if sentence is compare:\n",
        "      continue\n",
        "    else:\n",
        "      score = fuzz.token_set_ratio(sentence,compare)\n",
        "      fuzz_match[i][j] = score\n",
        "\n",
        "# Discard sentences with high score\n",
        "max_score = np.max(fuzz_match)\n",
        "argmax_score = np.argmax(fuzz_match)\n",
        "\n",
        "while max_score > 80:\n",
        "  # Find the two matching sentences\n",
        "  i = argmax_score // size\n",
        "  j = argmax_score % size\n",
        "\n",
        "  # out of the two, find the one with the highest average score (the sentence on average more similar to all the others)\n",
        "  if fuzz_match[i].mean() < fuzz_match[j].mean():\n",
        "    to_delete = j\n",
        "  else:\n",
        "    assert fuzz_match[i].mean() >= fuzz_match[j].mean()\n",
        "    to_delete = i\n",
        "\n",
        "  # Delete sentence from the fuzz match\n",
        "  fuzz_match = np.delete(fuzz_match, to_delete, axis=0)\n",
        "  fuzz_match = np.delete(fuzz_match, to_delete, axis=1)\n",
        "\n",
        "  # Delete sentence from sentences\n",
        "  sentences.pop(to_delete)\n",
        "\n",
        "  # Values for the new While cycle\n",
        "  max_score = np.max(fuzz_match)\n",
        "  argmax_score = np.argmax(fuzz_match)"
      ],
      "metadata": {
        "id": "OKnKwSzE3nAh"
      },
      "execution_count": null,
      "outputs": []
    },
    {
      "cell_type": "markdown",
      "source": [
        "Now I want to join back the sentences using the original punctuation"
      ],
      "metadata": {
        "id": "sF_DDAYEXmE2"
      }
    },
    {
      "cell_type": "code",
      "source": [
        "output = ''\n",
        "\n",
        "for sentence in sentences:\n",
        "  idx = answer.find(sentence)\n",
        "\n",
        "  if idx != -1 and idx + len(sentence) < len(answer):\n",
        "      punctuation = answer[idx + len(sentence)]\n",
        "      output += sentence.strip() + punctuation + '\\n'\n",
        "  else:\n",
        "      print(\"Substring not found or character after the substring does not exist.\")\n",
        "\n",
        "print(output)"
      ],
      "metadata": {
        "colab": {
          "base_uri": "https://localhost:8080/"
        },
        "id": "9tMy8BiGWnt-",
        "outputId": "744a3da6-3b48-43e4-ee56-a4388cfcfbed"
      },
      "execution_count": null,
      "outputs": [
        {
          "output_type": "stream",
          "name": "stdout",
          "text": [
            "- L'assenza di motivazione e la mancanza di interesse nel lavoro possono portare a una diminuzione della produttività e della qualità del lavoro.\n",
            "- La mancanza di competenze e abilità necessarie per svolgere il lavoro può portare a difficoltà e problemi.\n",
            "- La mancanza di opportunità di crescita e sviluppo può portare a una sensazione di stagnazione e mancanza di motivazione.\n",
            "- La mancanza di un clima di lavoro positivo e motivante può portare a un'atmosfera negativa e a un'alta assenza.\n",
            "- La mancanza di un'adeguata compensazione e riconoscimento può portare a una mancanza di motivazione e una sensazione di insoddisfazione.\n",
            "\n"
          ]
        }
      ]
    },
    {
      "cell_type": "markdown",
      "source": [
        "# Original model Generation"
      ],
      "metadata": {
        "id": "kAlORdXcY4qf"
      }
    },
    {
      "cell_type": "markdown",
      "source": [
        "Here we put together the Generation with LLM and the string processing"
      ],
      "metadata": {
        "id": "Qogpep2aaimW"
      }
    },
    {
      "cell_type": "code",
      "source": [
        "# Define the pipeline\n",
        "pipe = pipeline(\n",
        "    \"text-generation\",\n",
        "    model=model,\n",
        "    tokenizer = tokenizer,\n",
        "    torch_dtype=torch.bfloat16,\n",
        "    device_map=\"auto\"\n",
        ")"
      ],
      "metadata": {
        "id": "05JmgLJGZWt7"
      },
      "execution_count": null,
      "outputs": []
    },
    {
      "cell_type": "markdown",
      "source": [
        "Note that the system prompt used in the Test generation from the base model is similar to the prompt used in ChatGPT to create the dataset:\n",
        "\n",
        "template_general_questions =\n",
        "\n",
        "    I provide you with the following context: '''{transcript}'''.\n",
        "    You must identify the general topic that is discussed in the provided context.\n",
        "    Once the general topic is identified, you need to generate 5 pairs of Question-Answer on the general topic.\n",
        "    Since the questions are generic, the answers must be at least 2 sentences (but do not go above 6 sentences).\n",
        "\n",
        "\n",
        "\n",
        "template_specific_questions =\n",
        "\n",
        "    I provide you with the following context: '''{transcript}'''.\n",
        "    You must identify the general topic that is discussed in the provided context.\n",
        "    Once the general topic is identified, one related sub-topic covered in the provided context.\n",
        "    In the output list all the identified sub-topics in a numbered list. You can use it to double check that the identified sub-topics are five.\n",
        "    Create two Question-Answer pair for said sub-topic. Double check that they are two.\n",
        "    Since the question are specific to a sub-topic, the answer must be at most four sentences long.\n",
        "    Repeat the above actions for five different sub-topics covered in the context.\n",
        "    Before providing the output, review your answer and make sure that five sub topics have been identified.\n",
        "\n",
        "system =\n",
        "\n",
        "    You are a helpful assistant that reads documents, understand their content, and generate Question-Answer pairs.\n",
        "    Your output will be used to perform supervised fine tuning of a LLM - keep it in mind when formulating both the question and the answer.\n",
        "    The desired output format is the following:\n",
        "    - The first line of the output should be \"Topic:\" followed by the topic identified in the provided document\n",
        "    - Identify the questions with \"Question:\" and the answers with \"Answer:\"\n",
        "    - each question and each answer need to be in one line only. The result of this is that each line will start either with \"Question:\" or with \"Answer:\"\n",
        "    Avoid referring to any Named Entity in the questions, unless extremely relevant for the document content.\n",
        "    Email addresses and phone numbers are not relevant for me - do not mention them at any time.\n"
      ],
      "metadata": {
        "id": "eCzscYNyq2TY"
      }
    },
    {
      "cell_type": "code",
      "source": [
        "test_answers = []\n",
        "\n",
        "for row in dataset['test']:\n",
        "\n",
        "  ##############################################\n",
        "  #############     GENERATION     #############\n",
        "  ##############################################\n",
        "\n",
        "  system_message = \"Sei un assistente AI utile e conciso. Rispondi in massimo cinque frasi, va bene anche usarne meno.\"\n",
        "\n",
        "  prompt_template=f\"\"\"<|im_start|>Sistema: {system_message}<|im_end|>\n",
        "  <|im_start|>Utente: {row['question']}<|im_end|>\n",
        "  <|im_start|>Assistente: \"\"\"\n",
        "\n",
        "  # Call the pipeline also with args to be passed to the model\n",
        "  sequences = pipe(\n",
        "      prompt_template,\n",
        "      max_new_tokens=200,\n",
        "      do_sample=False,\n",
        "      return_full_text=False,\n",
        "      num_return_sequences=1,\n",
        "      eos_token_id=tokenizer.eos_token_id,\n",
        "      pad_token_id=tokenizer.eos_token_id,\n",
        "      decoder_start_token_id=0,\n",
        "  )\n",
        "\n",
        "  answer = sequences[0]['generated_text']\n",
        "\n",
        "  ##############################################\n",
        "  #############     PROCESSING     #############\n",
        "  ##############################################\n",
        "\n",
        "  # If there is the end tag, let's just consider what's before it\n",
        "  if '<|im_end|>' in answer:\n",
        "    answer = answer.split('<|im_end|>')[0]\n",
        "\n",
        "  # Then, we want to remove the numbers of the numbered item list\n",
        "  answer = re.sub(r'\\d+\\.\\s*', '- ', answer)\n",
        "\n",
        "  # Then, what we want  to do is to verify that each sentence generated by the model is not similar to the others\n",
        "  # We want to discard the last element as the model will always close a sentence with a dot.\n",
        "  # If no dot is present, it means that the generation was interrupted because of the max tokens limit\n",
        "  sentences = re.split(r'[.?!:;]', answer.strip())\n",
        "\n",
        "  if len(sentences[-1]) > 0:\n",
        "    answer = answer[:-len(sentences[-1])]\n",
        "\n",
        "  sentences = sentences[:-1]\n",
        "\n",
        "  # Build the Fuzzy matching matrix\n",
        "  size = len(sentences)\n",
        "  fuzz_match = np.zeros((size, size))\n",
        "\n",
        "  for i, sentence in enumerate(sentences):\n",
        "    for j, compare in enumerate(sentences):\n",
        "      if sentence is compare:\n",
        "        continue\n",
        "      else:\n",
        "        score = fuzz.token_set_ratio(sentence,compare)\n",
        "        fuzz_match[i][j] = score\n",
        "\n",
        "  # Discard sentences with high score\n",
        "  max_score = np.max(fuzz_match)\n",
        "  argmax_score = np.argmax(fuzz_match)\n",
        "\n",
        "  while max_score > 80:\n",
        "    # Find the two matching sentences\n",
        "    i = argmax_score // size\n",
        "    j = argmax_score % size\n",
        "\n",
        "    # out of the two, find the one with the highest average score (the sentence on average more similar to all the others)\n",
        "    if fuzz_match[i].mean() < fuzz_match[j].mean():\n",
        "      to_delete = j\n",
        "    else:\n",
        "      assert fuzz_match[i].mean() >= fuzz_match[j].mean()\n",
        "      to_delete = i\n",
        "\n",
        "    # Delete sentence from the fuzz match\n",
        "    fuzz_match = np.delete(fuzz_match, to_delete, axis=0)\n",
        "    fuzz_match = np.delete(fuzz_match, to_delete, axis=1)\n",
        "\n",
        "    # Delete sentence from sentences\n",
        "    sentences.pop(to_delete)\n",
        "\n",
        "    # Values for the new While cycle\n",
        "    max_score = np.max(fuzz_match)\n",
        "    argmax_score = np.argmax(fuzz_match)\n",
        "\n",
        "  output = ''\n",
        "\n",
        "  for sentence in sentences:\n",
        "    idx = answer.find(sentence)\n",
        "\n",
        "    if idx != -1 and idx + len(sentence) < len(answer):\n",
        "        punctuation = answer[idx + len(sentence)]\n",
        "        output += sentence.strip() + punctuation + '\\n'\n",
        "    else:\n",
        "        print(\"Substring not found or character after the substring does not exist.\")\n",
        "\n",
        "  new_element = {\"id\": row['id'],\n",
        "                 \"answer_raw_model\": output}\n",
        "\n",
        "  test_answers.append(new_element)\n",
        "\n",
        "  print(f'Question: ', row['question'])\n",
        "  print(f'Generated output: {output}')\n",
        "  print(f'Reference output: ', row['answer'])\n",
        "  print('###################################\\n')\n",
        "\n",
        "\n",
        "  with open('/content/gdrive/MyDrive/Syllog/test_raw_answers.pkl', 'wb') as file:\n",
        "    pickle.dump(test_answers, file)\n"
      ],
      "metadata": {
        "id": "iR0vGrESY-ar"
      },
      "execution_count": null,
      "outputs": []
    },
    {
      "cell_type": "markdown",
      "source": [
        "# Fine Tuning"
      ],
      "metadata": {
        "id": "KC5z4CwWXbop"
      }
    },
    {
      "cell_type": "markdown",
      "source": [
        "In this section we are going to perform the actual fine tuning of the model."
      ],
      "metadata": {
        "id": "58vCQoyklEn8"
      }
    },
    {
      "cell_type": "code",
      "source": [
        "model = prepare_model_for_kbit_training(model)\n",
        "peft_config = LoraConfig(\n",
        "    lora_alpha=16,\n",
        "    lora_dropout=0.1,\n",
        "    r=4,                # The number of data samples is extemely limited, so let's use a low rank to reduce resources requirements\n",
        "    bias=\"none\",\n",
        "    task_type=\"CAUSAL_LM\",\n",
        "    target_modules=[\"q_proj\", \"k_proj\", \"v_proj\", \"o_proj\",\"gate_proj\"]\n",
        ")\n",
        "model = get_peft_model(model, peft_config)"
      ],
      "metadata": {
        "id": "moNIbxTx_F81"
      },
      "execution_count": 8,
      "outputs": []
    },
    {
      "cell_type": "code",
      "source": [
        "def print_trainable_parameters(model):\n",
        "    \"\"\"\n",
        "    Prints the number of trainable parameters in the model.\n",
        "    \"\"\"\n",
        "    trainable_params = 0\n",
        "    all_param = 0\n",
        "    for _, param in model.named_parameters():\n",
        "        all_param += param.numel()\n",
        "        if param.requires_grad:\n",
        "            trainable_params += param.numel()\n",
        "    print(\n",
        "        f\"trainable params: {trainable_params} || all params: {all_param} || trainable %: {100 * trainable_params / all_param}\"\n",
        "    )\n",
        "\n",
        "print_trainable_parameters(model)"
      ],
      "metadata": {
        "colab": {
          "base_uri": "https://localhost:8080/"
        },
        "id": "GD2m0VY720yv",
        "outputId": "676e9af5-e14a-46b7-af12-da4cebeb5fd3"
      },
      "execution_count": 28,
      "outputs": [
        {
          "output_type": "stream",
          "name": "stdout",
          "text": [
            "trainable params: 5767168 || all params: 3757838336 || trainable %: 0.153470359401858\n"
          ]
        }
      ]
    },
    {
      "cell_type": "code",
      "source": [
        "training_arguments = TrainingArguments(\n",
        "    output_dir=\"/content/gdrive/MyDrive/Syllog/results\",\n",
        "    num_train_epochs=1,\n",
        "    per_device_train_batch_size=4,\n",
        "    gradient_accumulation_steps=1,\n",
        "    optim=\"paged_adamw_32bit\",\n",
        "    save_steps=25,\n",
        "    logging_steps=25,\n",
        "    learning_rate=2e-4,\n",
        "    weight_decay=0.001,\n",
        "    fp16=False,\n",
        "    bf16=False,\n",
        "    max_grad_norm=0.3,\n",
        "    max_steps=-1,\n",
        "    warmup_ratio=0.03,\n",
        "    group_by_length=True,\n",
        "    lr_scheduler_type=\"constant\",\n",
        "    report_to=None                   # We dont have a WanDB account, so cannot use it to visualize the training metrics\n",
        ")"
      ],
      "metadata": {
        "id": "oOt6FZ8V_PI5"
      },
      "execution_count": 13,
      "outputs": []
    },
    {
      "cell_type": "markdown",
      "source": [
        "We actually need to modify the data to make it in a format suitable for fine tuning.\n",
        "\n",
        "Hence, we define a formatting function and then pass it to the trainer"
      ],
      "metadata": {
        "id": "jIYmsCXCHSGc"
      }
    },
    {
      "cell_type": "code",
      "source": [
        "def prompt_instruction_format(sample):\n",
        "  system_prompt = 'Sei un assistente AI utile e conciso. Rispondi in massimo cinque frasi, va bene anche usarne meno.'\n",
        "  return [f\"\"\"<|im_start|>Sistema: {system_prompt}<|im_end|><|im_start|>Utente: {sample['question']}<|im_end|><|im_start|>Assistente: {sample['answer']}<|im_end|>\"\"\"]"
      ],
      "metadata": {
        "id": "7HOLGBhXxlD6"
      },
      "execution_count": 14,
      "outputs": []
    },
    {
      "cell_type": "code",
      "source": [
        "trainer = SFTTrainer(\n",
        "    model=model,\n",
        "    train_dataset=dataset['train'],\n",
        "    eval_dataset=dataset['test'],\n",
        "    peft_config=peft_config,\n",
        "    max_seq_length=200,\n",
        "    tokenizer=tokenizer,\n",
        "    formatting_func=prompt_instruction_format,\n",
        "    args=training_arguments,\n",
        "    packing= False,\n",
        ")"
      ],
      "metadata": {
        "id": "HkDOHAnc_UFt",
        "colab": {
          "base_uri": "https://localhost:8080/",
          "height": 81,
          "referenced_widgets": [
            "a60bc8fc2c41436ea6dbbec9bccc6bbc",
            "d01a635d61064ccba38a2ca6d15f8e43",
            "42573e2f79f7433da8ddfa316b2b43d2",
            "41337edfd1064e87a27d13c9b25baf59",
            "de0327e4ba3f47f7a23763d7aa7b9c06",
            "4a9dc9c8f14042b6b99bfa64d07b0883",
            "3feac85d92f64f0baebb514318d31d54",
            "36ba5a1ce83c40a59229090e60f03a4f",
            "ac818e71aeda474b993c653c11f7317e",
            "9a6fdc85be724102a0fda6121114b9a0",
            "c1b3f1c5627848ac8fd25295fef66a8c",
            "3ed547748d564197af9045ad8eff8174",
            "aaeeeb4b0a274ddd93f57480f50ff9e9",
            "63c3a45fecb94e6891fc86bda2a21774",
            "600c1f3025a742068498547be892197e",
            "6fc251a83571490b9b5be7af9cab1330",
            "b5d136952dba48e5a07fb09855a38a87",
            "fae6ccecde334c918c3fcafdd1f3362b",
            "1ff495c75a8848eda58d79fe2ffdf731",
            "a29a2f931b984c40bd04932059160a07",
            "0d425323d6ca45ed8bd05f03b6e25165",
            "283134e3f0c64b0f87d2b0ef6ab469a7"
          ]
        },
        "outputId": "dfecfefb-ce86-4f97-fbb9-b1a294bc211c"
      },
      "execution_count": 15,
      "outputs": [
        {
          "output_type": "display_data",
          "data": {
            "text/plain": [
              "Map:   0%|          | 0/645 [00:00<?, ? examples/s]"
            ],
            "application/vnd.jupyter.widget-view+json": {
              "version_major": 2,
              "version_minor": 0,
              "model_id": "a60bc8fc2c41436ea6dbbec9bccc6bbc"
            }
          },
          "metadata": {}
        },
        {
          "output_type": "display_data",
          "data": {
            "text/plain": [
              "Map:   0%|          | 0/59 [00:00<?, ? examples/s]"
            ],
            "application/vnd.jupyter.widget-view+json": {
              "version_major": 2,
              "version_minor": 0,
              "model_id": "3ed547748d564197af9045ad8eff8174"
            }
          },
          "metadata": {}
        }
      ]
    },
    {
      "cell_type": "markdown",
      "source": [
        "We dont have a WanDB account, so cannot use it to visualize the training metrics"
      ],
      "metadata": {
        "id": "yl35BXxP2QvT"
      }
    },
    {
      "cell_type": "code",
      "source": [
        "import wandb\n",
        "wandb.init(mode='disabled')\n",
        "\n",
        "os.environ['WANDB_DISABLED'] = 'true'"
      ],
      "metadata": {
        "colab": {
          "base_uri": "https://localhost:8080/",
          "height": 34
        },
        "id": "wZilQoDf1y_1",
        "outputId": "5e62e1c3-23a1-4292-ea41-cbe1e16368e7"
      },
      "execution_count": 25,
      "outputs": [
        {
          "output_type": "display_data",
          "data": {
            "text/plain": [
              "<IPython.core.display.HTML object>"
            ],
            "text/html": [
              "Changes to your `wandb` environment variables will be ignored because your `wandb` session has already started. For more information on how to modify your settings with `wandb.init()` arguments, please refer to <a href='https://wandb.me/wandb-init' target=\"_blank\">the W&B docs</a>."
            ]
          },
          "metadata": {}
        },
        {
          "output_type": "execute_result",
          "data": {
            "text/plain": [],
            "application/vnd.google.colaboratory.intrinsic+json": {
              "type": "string"
            }
          },
          "metadata": {},
          "execution_count": 25
        }
      ]
    },
    {
      "cell_type": "code",
      "source": [
        "trainer.train()"
      ],
      "metadata": {
        "id": "nyJvW08g_pLW",
        "colab": {
          "base_uri": "https://localhost:8080/",
          "height": 165
        },
        "outputId": "3cdc2d61-caa2-4bca-a513-5be366a748ad"
      },
      "execution_count": 26,
      "outputs": [
        {
          "output_type": "stream",
          "name": "stderr",
          "text": [
            "/usr/local/lib/python3.10/dist-packages/torch/utils/checkpoint.py:429: UserWarning: torch.utils.checkpoint: please pass in use_reentrant=True or use_reentrant=False explicitly. The default value of use_reentrant will be updated to be False in the future. To maintain current behavior, pass use_reentrant=True. It is recommended that you use use_reentrant=False. Refer to docs for more details on the differences between the two variants.\n",
            "  warnings.warn(\n"
          ]
        },
        {
          "output_type": "display_data",
          "data": {
            "text/plain": [
              "<IPython.core.display.HTML object>"
            ],
            "text/html": [
              "\n",
              "    <div>\n",
              "      \n",
              "      <progress value='1' max='1' style='width:300px; height:20px; vertical-align: middle;'></progress>\n",
              "      [1/1 00:00, Epoch 1/1]\n",
              "    </div>\n",
              "    <table border=\"1\" class=\"dataframe\">\n",
              "  <thead>\n",
              " <tr style=\"text-align: left;\">\n",
              "      <th>Step</th>\n",
              "      <th>Training Loss</th>\n",
              "    </tr>\n",
              "  </thead>\n",
              "  <tbody>\n",
              "  </tbody>\n",
              "</table><p>"
            ]
          },
          "metadata": {}
        },
        {
          "output_type": "execute_result",
          "data": {
            "text/plain": [
              "TrainOutput(global_step=1, training_loss=1.3391023874282837, metrics={'train_runtime': 4.1171, 'train_samples_per_second': 0.243, 'train_steps_per_second': 0.243, 'total_flos': 8539712716800.0, 'train_loss': 1.3391023874282837, 'epoch': 1.0})"
            ]
          },
          "metadata": {},
          "execution_count": 26
        }
      ]
    },
    {
      "cell_type": "code",
      "source": [
        "trainer.save_model('/content/gdrive/MyDrive/Syllog/results/tuned_model')"
      ],
      "metadata": {
        "id": "etWi25kr3JXU"
      },
      "execution_count": 29,
      "outputs": []
    },
    {
      "cell_type": "code",
      "source": [
        "PEFT_MODEL = '/content/gdrive/MyDrive/Syllog/results/tuned_model'\n",
        "\n",
        "config = PeftConfig.from_pretrained(PEFT_MODEL)\n",
        "model = AutoModelForCausalLM.from_pretrained(\n",
        "    config.base_model_name_or_path,\n",
        "    return_dict=True,\n",
        "    quantization_config=bnb_config,\n",
        "    device_map=\"auto\",\n",
        "    trust_remote_code=True,\n",
        ")\n",
        "tokenizer = AutoTokenizer.from_pretrained(config.base_model_name_or_path)\n",
        "tokenizer.pad_token = tokenizer.eos_token\n",
        "\n",
        "# Load the Lora model\n",
        "model = PeftModel.from_pretrained(model, PEFT_MODEL)"
      ],
      "metadata": {
        "colab": {
          "base_uri": "https://localhost:8080/",
          "height": 49,
          "referenced_widgets": [
            "d9ee23e3e9124dc59f5c94d5eac5f372",
            "c764241ee763429186f72ba6e0b76fa5",
            "7566195212c74a1d981a57b0e8d129fa",
            "cacac8fc8ff040969555c9d4aba5c12b",
            "566b6513f219403cafecbd309e673bcf",
            "ea1d753a804f44a1899117211ba8195f",
            "38896db53c90465ab11d30c563b87f6e",
            "1174857872a541319c84cd39f273fef4",
            "4098f8bdd4244f75b6f7e65beffea91c",
            "9536e563cde44b97b187dcde37f04385",
            "1097e4f6d8384d5e9d69b9e1f8f067da"
          ]
        },
        "id": "dxnZF_B63OLu",
        "outputId": "94b7d93a-713d-48c1-d2df-ba25c2d42184"
      },
      "execution_count": 33,
      "outputs": [
        {
          "output_type": "display_data",
          "data": {
            "text/plain": [
              "Loading checkpoint shards:   0%|          | 0/2 [00:00<?, ?it/s]"
            ],
            "application/vnd.jupyter.widget-view+json": {
              "version_major": 2,
              "version_minor": 0,
              "model_id": "d9ee23e3e9124dc59f5c94d5eac5f372"
            }
          },
          "metadata": {}
        }
      ]
    },
    {
      "cell_type": "code",
      "source": [
        "# Define the pipeline\n",
        "pipe = pipeline(\n",
        "    \"text-generation\",\n",
        "    model=model,\n",
        "    tokenizer = tokenizer,\n",
        "    torch_dtype=torch.bfloat16,\n",
        "    device_map=\"auto\"\n",
        ")"
      ],
      "metadata": {
        "colab": {
          "base_uri": "https://localhost:8080/"
        },
        "id": "e4FMQIZO5MhS",
        "outputId": "6fddab58-d060-4757-cc4e-26e9c28fc9c6"
      },
      "execution_count": 35,
      "outputs": [
        {
          "output_type": "stream",
          "name": "stderr",
          "text": [
            "The model 'PeftModelForCausalLM' is not supported for text-generation. Supported models are ['BartForCausalLM', 'BertLMHeadModel', 'BertGenerationDecoder', 'BigBirdForCausalLM', 'BigBirdPegasusForCausalLM', 'BioGptForCausalLM', 'BlenderbotForCausalLM', 'BlenderbotSmallForCausalLM', 'BloomForCausalLM', 'CamembertForCausalLM', 'LlamaForCausalLM', 'CodeGenForCausalLM', 'CpmAntForCausalLM', 'CTRLLMHeadModel', 'Data2VecTextForCausalLM', 'ElectraForCausalLM', 'ErnieForCausalLM', 'FalconForCausalLM', 'FuyuForCausalLM', 'GitForCausalLM', 'GPT2LMHeadModel', 'GPT2LMHeadModel', 'GPTBigCodeForCausalLM', 'GPTNeoForCausalLM', 'GPTNeoXForCausalLM', 'GPTNeoXJapaneseForCausalLM', 'GPTJForCausalLM', 'LlamaForCausalLM', 'MarianForCausalLM', 'MBartForCausalLM', 'MegaForCausalLM', 'MegatronBertForCausalLM', 'MistralForCausalLM', 'MixtralForCausalLM', 'MptForCausalLM', 'MusicgenForCausalLM', 'MvpForCausalLM', 'OpenLlamaForCausalLM', 'OpenAIGPTLMHeadModel', 'OPTForCausalLM', 'PegasusForCausalLM', 'PersimmonForCausalLM', 'PhiForCausalLM', 'PLBartForCausalLM', 'ProphetNetForCausalLM', 'QDQBertLMHeadModel', 'Qwen2ForCausalLM', 'ReformerModelWithLMHead', 'RemBertForCausalLM', 'RobertaForCausalLM', 'RobertaPreLayerNormForCausalLM', 'RoCBertForCausalLM', 'RoFormerForCausalLM', 'RwkvForCausalLM', 'Speech2Text2ForCausalLM', 'TransfoXLLMHeadModel', 'TrOCRForCausalLM', 'WhisperForCausalLM', 'XGLMForCausalLM', 'XLMWithLMHeadModel', 'XLMProphetNetForCausalLM', 'XLMRobertaForCausalLM', 'XLMRobertaXLForCausalLM', 'XLNetLMHeadModel', 'XmodForCausalLM'].\n"
          ]
        }
      ]
    },
    {
      "cell_type": "code",
      "source": [
        "cont = 0\n",
        "\n",
        "for row in dataset['test']:\n",
        "\n",
        "  ##############################################\n",
        "  #############     GENERATION     #############\n",
        "  ##############################################\n",
        "\n",
        "  system_message = \"Sei un assistente AI utile e conciso. Rispondi in massimo cinque frasi, va bene anche usarne meno.\"\n",
        "\n",
        "  prompt_template=f\"\"\"<|im_start|>Sistema: {system_message}<|im_end|>\n",
        "  <|im_start|>Utente: {row['question']}<|im_end|>\n",
        "  <|im_start|>Assistente: \"\"\"\n",
        "\n",
        "  # Call the pipeline also with args to be passed to the model\n",
        "  sequences = pipe(\n",
        "      prompt_template,\n",
        "      max_new_tokens=200,\n",
        "      do_sample=False,\n",
        "      return_full_text=False,\n",
        "      num_return_sequences=1,\n",
        "      eos_token_id=tokenizer.eos_token_id,\n",
        "      pad_token_id=tokenizer.eos_token_id,\n",
        "      decoder_start_token_id=0,\n",
        "  )\n",
        "\n",
        "  answer = sequences[0]['generated_text']\n",
        "\n",
        "  ##############################################\n",
        "  #############     PROCESSING     #############\n",
        "  ##############################################\n",
        "\n",
        "  # If there is the end tag, let's just consider what's before it\n",
        "  if '<|im_end|>' in answer:\n",
        "    answer = answer.split('<|im_end|>')[0]\n",
        "\n",
        "  # Then, we want to remove the numbers of the numbered item list\n",
        "  answer = re.sub(r'\\d+\\.\\s*', '- ', answer)\n",
        "\n",
        "  # Then, what we want  to do is to verify that each sentence generated by the model is not similar to the others\n",
        "  # We want to discard the last element as the model will always close a sentence with a dot.\n",
        "  # If no dot is present, it means that the generation was interrupted because of the max tokens limit\n",
        "  sentences = re.split(r'[.?!:;]', answer.strip())\n",
        "\n",
        "  if len(sentences[-1]) > 0:\n",
        "    answer = answer[:-len(sentences[-1])]\n",
        "\n",
        "  sentences = sentences[:-1]\n",
        "\n",
        "  # Build the Fuzzy matching matrix\n",
        "  size = len(sentences)\n",
        "  fuzz_match = np.zeros((size, size))\n",
        "\n",
        "  for i, sentence in enumerate(sentences):\n",
        "    for j, compare in enumerate(sentences):\n",
        "      if sentence is compare:\n",
        "        continue\n",
        "      else:\n",
        "        score = fuzz.token_set_ratio(sentence,compare)\n",
        "        fuzz_match[i][j] = score\n",
        "\n",
        "  # Discard sentences with high score\n",
        "  max_score = np.max(fuzz_match)\n",
        "  argmax_score = np.argmax(fuzz_match)\n",
        "\n",
        "  while max_score > 80:\n",
        "    # Find the two matching sentences\n",
        "    i = argmax_score // size\n",
        "    j = argmax_score % size\n",
        "\n",
        "    # out of the two, find the one with the highest average score (the sentence on average more similar to all the others)\n",
        "    if fuzz_match[i].mean() < fuzz_match[j].mean():\n",
        "      to_delete = j\n",
        "    else:\n",
        "      assert fuzz_match[i].mean() >= fuzz_match[j].mean()\n",
        "      to_delete = i\n",
        "\n",
        "    # Delete sentence from the fuzz match\n",
        "    fuzz_match = np.delete(fuzz_match, to_delete, axis=0)\n",
        "    fuzz_match = np.delete(fuzz_match, to_delete, axis=1)\n",
        "\n",
        "    # Delete sentence from sentences\n",
        "    sentences.pop(to_delete)\n",
        "\n",
        "    # Values for the new While cycle\n",
        "    max_score = np.max(fuzz_match)\n",
        "    argmax_score = np.argmax(fuzz_match)\n",
        "\n",
        "  output = ''\n",
        "\n",
        "  for sentence in sentences:\n",
        "    idx = answer.find(sentence)\n",
        "\n",
        "    if idx != -1 and idx + len(sentence) < len(answer):\n",
        "        punctuation = answer[idx + len(sentence)]\n",
        "        output += sentence.strip() + punctuation + '\\n'\n",
        "    else:\n",
        "        print(\"Substring not found or character after the substring does not exist.\")\n",
        "\n",
        "  new_element = {\"id\": row['id'],\n",
        "                 \"answer_raw_model\": output}\n",
        "\n",
        "  print(f'Question: ', row['question'])\n",
        "  print(f'Generated output: {output}')\n",
        "  print(f'Reference output: ', row['answer'])\n",
        "  print('###################################\\n')\n",
        "\n",
        "  cont += 1\n",
        "\n",
        "  if cont == 5:\n",
        "    break\n"
      ],
      "metadata": {
        "colab": {
          "base_uri": "https://localhost:8080/"
        },
        "id": "tnuAaG2v3xb5",
        "outputId": "b3b726dc-099a-4dc3-a7c9-15e065891379"
      },
      "execution_count": 36,
      "outputs": [
        {
          "output_type": "stream",
          "name": "stdout",
          "text": [
            "Question:  Quali sono le responsabilità principali di un responsabile della conformità delle risorse umane?\n",
            "Generated output: - Assicurarsi che le procedure e le politiche di conformità delle risorse umane siano aggiornate e conformi alle normative e alle procedure aziendali.\n",
            "- Monitorare e controllare la conformità delle risorse umane, inclusi i processi di reclutamento, assunzione, formazione, retribuzione e sviluppo professionale.\n",
            "- Identificare e risolvere potenziali problemi di conformità delle risorse umane, inclusi i problemi di conformità alle normative, alle procedure aziendali e alle politiche.\n",
            "- Fornire supporto e assistenza alle persone interessate, inclusi i dipendenti, i manager e i responsabili della conformità delle risorse umane.\n",
            "\n",
            "Reference output:  Un responsabile della conformità delle risorse umane ha la responsabilità di garantire che tutti i dipendenti aderiscano alle politiche aziendali e alle normative legali. Supervisionano l'implementazione delle misure di conformità, gestiscono la documentazione e conducono sessioni di formazione per promuovere la consapevolezza e la comprensione dei requisiti di conformità.\n",
            "###################################\n",
            "\n",
            "Question:  Che cos'è la conformità delle risorse umane?\n",
            "Generated output: La conformità delle risorse umane è un processo di valutazione che verifica se le risorse umane di un'organizzazione sono conformi ai requisiti e alle norme stabiliti.\n",
            "\n",
            "Reference output:  La conformità delle risorse umane si riferisce al rispetto di leggi, regolamenti e politiche aziendali relative all'occupazione e alle pratiche lavorative. Garantisce che l'organizzazione operi entro i limiti legali e segua le migliori pratiche nei suoi processi relativi alle risorse umane.\n",
            "###################################\n",
            "\n",
            "Question:  Come definisce il Dipartimento del Lavoro degli Stati Uniti la condotta molesta?\n",
            "Generated output: La condotta molesta è definita dal Dipartimento del Lavoro degli Stati Uniti come un comportamento che crea un ambiente ospitale e sicuro per i dipendenti.\n",
            "\n",
            "Reference output:  Il Dipartimento del Lavoro degli Stati Uniti definisce condotta molesta qualsiasi condotta verbale, scritta o fisica indesiderata basata su varie caratteristiche protette, tra cui razza, colore, origine nazionale, religione, disabilità, sesso, orientamento sessuale, identità di genere, età, stato genitoriale, stato coniugale stato e altri. Questa condotta può incidere negativamente sull'ambiente di lavoro e comprende comportamenti che possono dar luogo a un \"ambiente di lavoro ostile\" o a \"molestie quid pro quo\".\n",
            "###################################\n",
            "\n",
            "Question:  A chi si applica la politica sulle molestie del Dipartimento?\n",
            "Generated output: La politica sulle molestie del Dipartimento si applica a tutti gli impiegati del Dipartimento, inclusi i dipendenti, gli interni, i volontari e i contrattisti.\n",
            "\n",
            "Reference output:  La politica sulle molestie del Dipartimento si applica allo stesso modo ai dipendenti, ai candidati all'assunzione e ai dipendenti a contratto DOL.\n",
            "###################################\n",
            "\n",
            "Question:  Quali fattori influenzano la difficoltà dei colloqui di lavoro?\n",
            "Generated output: il livello di difficoltà di un colloquio di lavoro può variare a seconda della complessità del lavoro.\n",
            "Ad esempio, un colloquio per un lavoro che richiede una vasta conoscenza o una vasta esperienza può essere più difficile di un colloquio per un lavoro più semplice.\n",
            "- La competenza del candidato:\n",
            "Ad esempio, un candidato con una vasta conoscenza e esperienza nel settore potrebbe avere un vantaggio rispetto a un candidato meno esperto.\n",
            "- La preparazione del candidato:\n",
            "\n",
            "Reference output:  La difficoltà dei colloqui di lavoro può essere influenzata dal numero di screening, dalle dimensioni dell'azienda, dallo status pubblico o privato del datore di lavoro, dall'istruzione e dall'età delle persone in cerca di lavoro. Glassdoor ha scoperto che gli ospedali hanno il processo di intervista più impegnativo, seguiti dalle organizzazioni no-profit.\n",
            "###################################\n",
            "\n"
          ]
        }
      ]
    },
    {
      "cell_type": "code",
      "source": [],
      "metadata": {
        "id": "RjKyXTxN5Wg8"
      },
      "execution_count": null,
      "outputs": []
    }
  ]
}