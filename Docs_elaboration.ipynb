{
  "nbformat": 4,
  "nbformat_minor": 0,
  "metadata": {
    "colab": {
      "provenance": [],
      "authorship_tag": "ABX9TyOMSzCmxHE59A91W7UurDQV",
      "include_colab_link": true
    },
    "kernelspec": {
      "name": "python3",
      "display_name": "Python 3"
    },
    "language_info": {
      "name": "python"
    }
  },
  "cells": [
    {
      "cell_type": "markdown",
      "metadata": {
        "id": "view-in-github",
        "colab_type": "text"
      },
      "source": [
        "<a href=\"https://colab.research.google.com/github/Ilvecho/Web-Scraping/blob/main/Docs_elaboration.ipynb\" target=\"_parent\"><img src=\"https://colab.research.google.com/assets/colab-badge.svg\" alt=\"Open In Colab\"/></a>"
      ]
    },
    {
      "cell_type": "markdown",
      "source": [
        "The goal of this notebook is to elaborate the text extracted from the web.\n",
        "\n",
        "In particular, to fine-tune in a supervised fashion, we need **prompt - expected answer** pairs.\n",
        "\n",
        "Hence, we leverage existing LLMs (ChatGPT) to create such pairs starting from the text we extracted.\n",
        "\n",
        "Then, further processing is needed, namely:\n",
        "- We need to translate the pairs from English to Italian\n",
        "- We need to reformat the pairs to have it how LoRA likes it"
      ],
      "metadata": {
        "id": "8iVLzL_iLPxl"
      }
    },
    {
      "cell_type": "code",
      "execution_count": null,
      "metadata": {
        "id": "1WcgcfemK5zN"
      },
      "outputs": [],
      "source": [
        "import numpy as np\n",
        "import pandas as pd\n",
        "import os\n",
        "import re\n",
        "import plotly.graph_objects as go\n",
        "\n",
        "from google.colab import userdata\n",
        "from google.colab import files,drive\n",
        "drive.mount('/content/gdrive')"
      ]
    },
    {
      "cell_type": "markdown",
      "source": [
        "# From text to prompt-answer pairs"
      ],
      "metadata": {
        "id": "1Z2sna3kEyPC"
      }
    },
    {
      "cell_type": "code",
      "source": [
        "!pip install -qU langchain"
      ],
      "metadata": {
        "id": "iUWBkDad_LK5"
      },
      "execution_count": null,
      "outputs": []
    },
    {
      "cell_type": "code",
      "source": [
        "!pip install -qU openai"
      ],
      "metadata": {
        "id": "WuBF7pehNwE6"
      },
      "execution_count": null,
      "outputs": []
    },
    {
      "cell_type": "code",
      "source": [
        "from openai import OpenAI\n",
        "from langchain_core.prompts import PromptTemplate\n",
        "import json"
      ],
      "metadata": {
        "id": "O6RCQpy-F0d4"
      },
      "execution_count": null,
      "outputs": []
    },
    {
      "cell_type": "code",
      "source": [
        "os.environ['OPENAI_API_KEY'] = userdata.get('OpenAI_API_Key')"
      ],
      "metadata": {
        "id": "ZGLlM89sFFTu"
      },
      "execution_count": null,
      "outputs": []
    },
    {
      "cell_type": "code",
      "source": [
        "client = OpenAI()\n",
        "\n",
        "model_3_5_turbo_1106 = \"gpt-3.5-turbo-1106\"\n",
        "model = model_3_5_turbo_1106\n",
        "\n",
        "template_general_questions = \"\"\"\n",
        "    I provide you with the following context: '''{transcript}'''.\n",
        "    You must identify the general topic that is discussed in the provided context.\n",
        "    Once the general topic is identified, you need to generate 5 pairs of Question-Answer on the general topic.\n",
        "    Since the questions are generic, the answers must be at least 2 sentences (but do not go above 6 sentences).\n",
        "\"\"\"\n",
        "\n",
        "template_specific_questions = \"\"\"\n",
        "    I provide you with the following context: '''{transcript}'''.\n",
        "    You must identify the general topic that is discussed in the provided context.\n",
        "    Once the general topic is identified, one related sub-topic covered in the provided context.\n",
        "    Create two Question-Answer pair for said sub-topic. Double check that they are two.\n",
        "    Since the question are specific to a sub-topic, the answer must be at most four sentences long.\n",
        "    Repeat the above actions for five different sub-topics covered in the context.\n",
        "    Before providing the output, review your answer and make sure that five sub topics have been identified.\n",
        "\"\"\"\n",
        "\n",
        "content = \"\"\"\n",
        "    You are a helpful assistant that reads documents, understand their content, and generate Question-Answer pairs.\n",
        "    Your output will be used to perform supervised fine tuning of a LLM - keep it in mind when formulating both the question and the answer.\n",
        "    The desired output format is the following:\n",
        "    - The first line of the output should be \"Topic:\" followed by the topic identified in the provided document\n",
        "    - Identify the questions with \"Question:\" and the answers with \"Answer:\"\n",
        "    - each question and each answer need to be in one line only. The result of this is that each line will start either with \"Question:\" or with \"Answer:\"\n",
        "    - Do not add anything else\n",
        "    - Do not leave any empty line\n",
        "    Avoid referring to any Named Entity in the questions, unless extremely relevant for the document content.\n",
        "    Email addresses and phone numbers are not relevant for me - do not mention them at any time.\n",
        "\"\"\""
      ],
      "metadata": {
        "id": "wdpEoWtqGyaq"
      },
      "execution_count": null,
      "outputs": []
    },
    {
      "cell_type": "markdown",
      "source": [
        "Still need to define the \"transcript\" variable"
      ],
      "metadata": {
        "id": "fVKmtHHQHF07"
      }
    },
    {
      "cell_type": "code",
      "source": [
        "transcript = open('/content/gdrive/MyDrive/Syllog/transcripts/text_01.txt', 'r').read()"
      ],
      "metadata": {
        "id": "tax-J0wgSDgP"
      },
      "execution_count": null,
      "outputs": []
    },
    {
      "cell_type": "code",
      "source": [
        "prompt_question = PromptTemplate(\n",
        "            input_variables = [\"transcript\"],\n",
        "            template=template_specific_questions #   template_general_questions\n",
        "        )\n",
        "\n",
        "query = prompt_question.format(\n",
        "    transcript = transcript,\n",
        ")\n",
        "\n",
        "response = client.chat.completions.create(\n",
        "    model=model,\n",
        "    messages=[\n",
        "        {\"role\": \"system\", \"content\": content},\n",
        "        {\"role\": \"user\", \"content\": query}\n",
        "    ],\n",
        "    temperature=0.0,\n",
        ")\n",
        "\n",
        "flashcard_content = response.choices[0].message.content"
      ],
      "metadata": {
        "id": "5D6k1PKvHEiB"
      },
      "execution_count": null,
      "outputs": []
    },
    {
      "cell_type": "code",
      "source": [
        "flashcard_content"
      ],
      "metadata": {
        "colab": {
          "base_uri": "https://localhost:8080/",
          "height": 105
        },
        "id": "a71nFqckSlJe",
        "outputId": "7fe8c9fc-ab59-47f8-c892-84220b669848"
      },
      "execution_count": null,
      "outputs": [
        {
          "output_type": "execute_result",
          "data": {
            "text/plain": [
              "\"Topic: HR Compliance\\n\\nQuestion: What is the role of HR compliance?\\nAnswer: The role of HR compliance is to define policies and procedures to ensure that employment and work practices align with all applicable laws, rules, and regulations while also supporting the company's larger objectives.\\n\\nQuestion: Why is HR compliance mandatory?\\nAnswer: HR compliance is mandatory to implement best practices for company policies, create manuals for hiring and retaining employees, enhance the business's reputation, ensure legal employment practices, and drive business results within the framework of employment laws.\\n\\nTopic: HR Compliance Officer\\n\\nQuestion: What is the significance of an HR compliance officer?\\nAnswer: HR compliance officers ensure that all individuals in the company adhere to policies and guidelines, work alongside a dedicated HR compliance team, and proactively ensure that the system meets all legal obligations.\\n\\nQuestion: What are the prerequisites for becoming an HR compliance officer?\\nAnswer: Candidates aspiring to become HR compliance officers must possess skills in compliance regulations, risk management, legal requirements, industry practices, teamwork, communication, integrity, and professional ethics.\\n\\nTopic: HR Compliance Checklist\\n\\nQuestion: What are the key components of an HR compliance checklist?\\nAnswer: An HR compliance checklist includes sections for recruiting and interviewing, hiring procedures, policies and procedures, safety measures, employee handbook, management training, I-9 forms, employee files, unemployment benefits, working time, and prerequisites for becoming an HR compliance officer.\\n\\nQuestion: Why is an HR compliance checklist important?\\nAnswer: An HR compliance checklist is important as it provides a systematically organized list of tasks to be completed, helps prepare for HR audits, ensures compliance with employment laws, and supports the smooth functioning of the organization.\\n\\nTopic: Policies and Procedures\\n\\nQuestion: What are some important employment laws included in company policies and procedures?\\nAnswer: Important employment laws included in company policies and procedures are the Family and Medical Leave Act (FMLA), COBRA and unemployment benefits, pregnancy disability benefits and leave, health insurance benefits, drug and alcohol-free workplace specifications, rehabilitation services, equal pay, and ergonomics issues.\\n\\nQuestion: Why are policies and procedures important for a company?\\nAnswer: Policies and procedures are important for a company as they form the framework for operations, need to be followed and assessed regularly, and ensure compliance with a wide range of employment laws and regulations.\\n\\nTopic: Safety Section\\n\\nQuestion: What are the safety measures that employers need to consider according to the Occupational Safety and Health Act standards?\\nAnswer: According to the Occupational Safety and Health Act standards, employers need to consider safety measures to support and safeguard employees from various chemical and biological hazards in the workplace.\\n\\nQuestion: Why is the safety section important in an HR compliance checklist?\\nAnswer: The safety section is important in an HR compliance checklist as it ensures compliance with Occupational Safety and Health Act standards, verifies safety issues in the workplace, and supports the well-being of employees.\""
            ],
            "application/vnd.google.colaboratory.intrinsic+json": {
              "type": "string"
            }
          },
          "metadata": {},
          "execution_count": 52
        }
      ]
    }
  ]
}