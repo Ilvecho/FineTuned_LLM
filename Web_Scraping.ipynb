{
  "nbformat": 4,
  "nbformat_minor": 0,
  "metadata": {
    "colab": {
      "provenance": [],
      "mount_file_id": "1fVVbSi5EHJDlXMtSgniPpbG9i95VdH1P",
      "authorship_tag": "ABX9TyOxlyk5/OK+9hmLG/RLGobI",
      "include_colab_link": true
    },
    "kernelspec": {
      "name": "python3",
      "display_name": "Python 3"
    },
    "language_info": {
      "name": "python"
    }
  },
  "cells": [
    {
      "cell_type": "markdown",
      "metadata": {
        "id": "view-in-github",
        "colab_type": "text"
      },
      "source": [
        "<a href=\"https://colab.research.google.com/github/Ilvecho/Web-Scraping/blob/main/Web_Scraping.ipynb\" target=\"_parent\"><img src=\"https://colab.research.google.com/assets/colab-badge.svg\" alt=\"Open In Colab\"/></a>"
      ]
    },
    {
      "cell_type": "code",
      "source": [
        "import numpy as np\n",
        "import pandas as pd\n",
        "import os\n",
        "import re\n",
        "import plotly.graph_objects as go\n",
        "\n",
        "from google.colab import userdata\n",
        "from google.colab import files,drive\n",
        "drive.mount('/content/gdrive')"
      ],
      "metadata": {
        "colab": {
          "base_uri": "https://localhost:8080/"
        },
        "id": "ysjiomIt8R5d",
        "outputId": "b97d88b0-ea92-477b-e7e4-4807b045a62a"
      },
      "execution_count": 1,
      "outputs": [
        {
          "output_type": "stream",
          "name": "stdout",
          "text": [
            "Drive already mounted at /content/gdrive; to attempt to forcibly remount, call drive.mount(\"/content/gdrive\", force_remount=True).\n"
          ]
        }
      ]
    },
    {
      "cell_type": "markdown",
      "source": [
        "# Scrapy - web crawler"
      ],
      "metadata": {
        "id": "Fn7n_ZN09H8s"
      }
    },
    {
      "cell_type": "code",
      "source": [
        "! pip install Scrapy"
      ],
      "metadata": {
        "id": "B9vb5_2zbMn1"
      },
      "execution_count": null,
      "outputs": []
    },
    {
      "cell_type": "code",
      "execution_count": null,
      "metadata": {
        "colab": {
          "base_uri": "https://localhost:8080/"
        },
        "id": "Hj3pIClta0CH",
        "outputId": "45a8605e-25df-4bab-fc17-25d0b78de6c4"
      },
      "outputs": [
        {
          "output_type": "stream",
          "name": "stdout",
          "text": [
            "Drive already mounted at /content/gdrive; to attempt to forcibly remount, call drive.mount(\"/content/gdrive\", force_remount=True).\n"
          ]
        }
      ],
      "source": [
        "import scrapy\n",
        "from scrapy.crawler import CrawlerProcess"
      ]
    },
    {
      "cell_type": "markdown",
      "source": [
        "Create the spider to crawl the desired URLs"
      ],
      "metadata": {
        "id": "-oeYbgGFcgLD"
      }
    },
    {
      "cell_type": "code",
      "source": [
        "class HrSpider(scrapy.Spider):\n",
        "  name = 'hr_spider'\n",
        "\n",
        "  def start_requests(self):\n",
        "    urls = ['https://www.getimpactly.com/post/hr-compliance-checklist',\n",
        "            'https://mariopeshev.com/4-ps-employee-relations-conflict-management/']\n",
        "\n",
        "    for url in urls:\n",
        "      yield scrapy.Request(url=url, callback=self.parse)\n",
        "\n",
        "  def parse(self, response):\n",
        "    output_text = ''\n",
        "    # Extract the content of interest\n",
        "    paragraphs = response.css('p, li::text, h2::text').extract()\n",
        "\n",
        "    # Stitch together everything\n",
        "    for content in paragraphs:\n",
        "      output_text = output_text + '\\n' + content\n",
        "\n",
        "    # Do the parsing\n",
        "    output_text = output_text.replace(\"<p>\",\"\")\n",
        "    output_text = output_text.replace(\"</p>\",\"\")\n",
        "    output_text = re.sub(r'<a href=\"[^\"]*\">', '', output_text)\n",
        "    output_text = output_text.replace(\"</a>\",\"\")\n",
        "\n",
        "    # Save the text in a file\n",
        "    with open(r'/content/drive/MyDrive/hr_content.txt', 'w') as text_file:\n",
        "      text_file.write(output_text)\n",
        "      text_file.close()\n"
      ],
      "metadata": {
        "id": "ljh3wXNGcjs0"
      },
      "execution_count": null,
      "outputs": []
    },
    {
      "cell_type": "code",
      "source": [
        "process = CrawlerProcess()  # Look what Scrapy settings are # settings={'FEEDS': {'item.txt': {'format': 'txt'}}}\n",
        "process.crawl(HrSpider)\n",
        "process.start()"
      ],
      "metadata": {
        "id": "fC1ZNABUe4AV"
      },
      "execution_count": null,
      "outputs": []
    },
    {
      "cell_type": "code",
      "source": [
        "process.stop()"
      ],
      "metadata": {
        "colab": {
          "base_uri": "https://localhost:8080/"
        },
        "id": "4CwfNyLjfPsr",
        "outputId": "ff609847-46c3-49b0-970b-84dff7c9e899"
      },
      "execution_count": null,
      "outputs": [
        {
          "output_type": "execute_result",
          "data": {
            "text/plain": [
              "<DeferredList at 0x7a8ceb082fe0 current result: []>"
            ]
          },
          "metadata": {},
          "execution_count": 5
        }
      ]
    },
    {
      "cell_type": "markdown",
      "source": [
        "# Beautiful Soup for HTML parsing"
      ],
      "metadata": {
        "id": "0evtdP-K9PNx"
      }
    },
    {
      "cell_type": "code",
      "source": [
        "from bs4 import BeautifulSoup"
      ],
      "metadata": {
        "id": "GC1D5qvki9UE"
      },
      "execution_count": null,
      "outputs": []
    },
    {
      "cell_type": "code",
      "source": [
        "def find_max_text_element(tag):\n",
        "    max_text_length = 0\n",
        "    max_text_element = None\n",
        "    length_list = []\n",
        "\n",
        "    for child in tag.find_all(recursive=False):\n",
        "      # Find the direct children only, not nested elements\n",
        "      text_length = len(child.get_text(strip=True))\n",
        "      length_list.append(text_length)\n",
        "      if text_length > max_text_length:\n",
        "        max_text_length = text_length\n",
        "        max_text_element = child\n",
        "\n",
        "    length_list = np.array(length_list) / max_text_length\n",
        "    # print(length_list)\n",
        "    length_list[np.where(length_list == 1)] = 0\n",
        "\n",
        "    if (length_list > 0.10).any():\n",
        "\n",
        "      # Keep only the meaningful elements\n",
        "      for child in tag.find_all(recursive=False):\n",
        "        text_length = len(child.get_text(strip=True))\n",
        "        if (text_length / max_text_length) < 0.02:\n",
        "          # print(f\"popped: {text_length} / {max_text_length} = {text_length / max_text_length}\")\n",
        "          child.extract()\n",
        "\n",
        "      return max_text_element, True\n",
        "\n",
        "    else:\n",
        "      return max_text_element, False"
      ],
      "metadata": {
        "id": "shVv6d81ALUz"
      },
      "execution_count": null,
      "outputs": []
    },
    {
      "cell_type": "code",
      "source": [
        "def extract_main_content(html_content):\n",
        "  soup = BeautifulSoup(html_content, 'html.parser')\n",
        "  main_content = []\n",
        "\n",
        "  current_tag = soup.body  # Start from the <body> tag\n",
        "\n",
        "  # Remove unnecessary elements\n",
        "  for child in current_tag.find_all(name=['script', 'template', 'figure', 'img', 'style', 'label', 'button', 'span']):\n",
        "    child.extract()\n",
        "\n",
        "  to_return = ''\n",
        "  stop = False\n",
        "  while not stop:\n",
        "    max_text_element, stop = find_max_text_element(current_tag)\n",
        "\n",
        "    # Move to the tag with the maximum text content\n",
        "    current_tag = max_text_element\n",
        "\n",
        "  return max_text_element.get_text()"
      ],
      "metadata": {
        "id": "N1Z5kCDai7KM"
      },
      "execution_count": null,
      "outputs": []
    },
    {
      "cell_type": "code",
      "source": [
        "# Example HTML content (replace this with your actual HTML content)\n",
        "html_content = open(r'/content/drive/MyDrive/raw_body.txt', 'r')\n",
        "\n",
        "main_content = extract_main_content(html_content)\n",
        "\n",
        "main_content = re.sub(r'<a .*?>', '', main_content)\n",
        "main_content = main_content.replace(\"</a>\",\"\")\n",
        "\n",
        "\n",
        "with open(r'/content/drive/MyDrive/test_1.txt', 'w') as text_file:\n",
        "  text_file.write(main_content)\n",
        "  text_file.close()"
      ],
      "metadata": {
        "colab": {
          "base_uri": "https://localhost:8080/"
        },
        "id": "OzSGdUQMi5Yv",
        "outputId": "65947cde-d5ef-4cd6-ac33-b9b84c21ced1"
      },
      "execution_count": null,
      "outputs": [
        {
          "output_type": "stream",
          "name": "stdout",
          "text": [
            "[0.         1.         0.         0.         0.         0.\n",
            " 0.         0.         0.         0.         0.         0.\n",
            " 0.01671429]\n",
            "[0.00109786 0.01390617 1.         0.00966113]\n",
            "[1.]\n",
            "[1.]\n",
            "[1.        0.1316051]\n",
            "In if\n"
          ]
        }
      ]
    },
    {
      "cell_type": "markdown",
      "source": [
        "# newspaper\n",
        "\n",
        "God given library to scrape articles from the web"
      ],
      "metadata": {
        "id": "Gq-3Wotu9TYo"
      }
    },
    {
      "cell_type": "code",
      "source": [
        "! pip install newspaper3k\n",
        "! pip install thefuzz\n",
        "! pip install requests"
      ],
      "metadata": {
        "id": "0A0Zh2l-V8Mp"
      },
      "execution_count": null,
      "outputs": []
    },
    {
      "cell_type": "code",
      "source": [
        "from newspaper import Article\n",
        "from bs4 import BeautifulSoup\n",
        "from thefuzz import fuzz\n",
        "import requests"
      ],
      "metadata": {
        "id": "3X94TqQ8wC-f"
      },
      "execution_count": null,
      "outputs": []
    },
    {
      "cell_type": "code",
      "source": [
        "def find_max_text_element(tag):\n",
        "    max_text_length = 0\n",
        "    max_text_element = None\n",
        "    length_list = []\n",
        "\n",
        "    for child in tag.find_all(recursive=False):\n",
        "      # Find the direct children only, not nested elements\n",
        "      text_length = len(child.get_text(strip=True))\n",
        "      length_list.append(text_length)\n",
        "      if text_length > max_text_length:\n",
        "        max_text_length = text_length\n",
        "        max_text_element = child\n",
        "\n",
        "    length_list = np.array(length_list) / max_text_length\n",
        "    length_list[np.where(length_list == 1)] = 0\n",
        "\n",
        "    if (length_list > 0.10).any():\n",
        "\n",
        "      # Keep only the meaningful elements\n",
        "      for child in tag.find_all(recursive=False):\n",
        "        text_length = len(child.get_text(strip=True))\n",
        "        if (text_length / max_text_length) < 0.02:\n",
        "          child.extract()\n",
        "\n",
        "      return max_text_element, True\n",
        "\n",
        "    else:\n",
        "      return max_text_element, False"
      ],
      "metadata": {
        "id": "gZy05m-fXprz"
      },
      "execution_count": null,
      "outputs": []
    },
    {
      "cell_type": "code",
      "source": [
        "def parse_url(url):\n",
        "  r = requests.get(url.strip())\n",
        "\n",
        "  soup = BeautifulSoup(r.text, 'html.parser')\n",
        "\n",
        "  current_tag = soup.body  # Start from the <body> tag\n",
        "\n",
        "  # Remove unnecessary elements\n",
        "  for child in current_tag.find_all(name=['script', 'template', 'figure', 'img', 'style', 'label', 'button', 'span']):\n",
        "    child.extract()\n",
        "\n",
        "  stop = False\n",
        "  while not stop:\n",
        "    max_text_element, stop = find_max_text_element(current_tag)\n",
        "\n",
        "    # Move to the tag with the maximum text content\n",
        "    if max_text_element:\n",
        "      current_tag = max_text_element\n",
        "    else:\n",
        "      return ''\n",
        "\n",
        "  main_content = max_text_element.get_text()\n",
        "\n",
        "  main_content = re.sub(r'<a .*?>', '', main_content)\n",
        "  main_content = main_content.replace(\"</a>\",\"\")\n",
        "\n",
        "  return main_content"
      ],
      "metadata": {
        "id": "OtkKQ_0fXGGU"
      },
      "execution_count": null,
      "outputs": []
    },
    {
      "cell_type": "code",
      "source": [
        "# Using readlines()\n",
        "url_file = open('/content/gdrive/MyDrive/Syllog/the_urls.txt', 'r')\n",
        "\n",
        "count = 1\n",
        "# Strips the newline character\n",
        "for url in url_file.readlines():\n",
        "\n",
        "  url = url.strip()\n",
        "\n",
        "  if len(url) == 0:\n",
        "    break\n",
        "\n",
        "  print(f'{count}: {url}')\n",
        "\n",
        "  if url.split('.')[-1] == 'pdf':\n",
        "    with open('/content/gdrive/MyDrive/Syllog/failed_urls.txt', 'a') as file:\n",
        "      file.write(url.strip() + '\\n')\n",
        "    count += 1\n",
        "    continue\n",
        "\n",
        "  try:\n",
        "    # Create an Article object and download the article\n",
        "    article = Article(url)\n",
        "    article.download()\n",
        "\n",
        "    print('Article downloaded')\n",
        "\n",
        "    # Parse the article content\n",
        "    article.parse()\n",
        "\n",
        "    # Get the output text and parse it with RegEx\n",
        "    output_text = article.text\n",
        "\n",
        "    # Use a regular expression to find consecutive duplicate content\n",
        "    pattern = re.compile(r'(\\b.*?\\b[.!?])(?:[.\\n\\s]*)\\1')\n",
        "\n",
        "    # Replace consecutive duplicate content with the first occurrence\n",
        "    result = re.sub(pattern, r'\\1', output_text)\n",
        "\n",
        "    # Get the text length from the HTML and compare it with the extracted text\n",
        "\n",
        "    score = fuzz.token_set_ratio(result, parse_url(url))\n",
        "    print(score)\n",
        "\n",
        "    if score > 80:\n",
        "\n",
        "      with open(f'/content/gdrive/MyDrive/Syllog/transcripts/text_{count}.txt', 'w') as text_file:\n",
        "        print('OK')\n",
        "        text_file.write(result)\n",
        "        text_file.close()\n",
        "    else:\n",
        "      with open('/content/gdrive/MyDrive/Syllog/failed_urls.txt', 'a') as file:\n",
        "        print('ERROR')\n",
        "        file.write(url.strip() + '\\n')\n",
        "\n",
        "  except:\n",
        "    # If there is any issue in the above pipeline, note down the URL to be scraped manually\n",
        "    with open('/content/gdrive/MyDrive/Syllog/failed_urls.txt', 'a') as file:\n",
        "      file.write(url.strip() + '\\n')\n",
        "\n",
        "  print(\"############\")\n",
        "  count += 1"
      ],
      "metadata": {
        "id": "5QsifWVk768v",
        "colab": {
          "base_uri": "https://localhost:8080/"
        },
        "outputId": "434878d4-8a6b-46e2-8bca-ec078af92af3"
      },
      "execution_count": null,
      "outputs": [
        {
          "output_type": "stream",
          "name": "stdout",
          "text": [
            "1: https://www.getimpactly.com/post/hr-compliance-checklist\n",
            "Article downloaded\n",
            "97\n",
            "OK\n",
            "############\n",
            "2: https://www.dol.gov/agencies/oasam/centers-offices/civil-rights-center/internal/policies/DOL-Policy-Statement-on-Harassing-Conduct-in-the-Work\n",
            "Article downloaded\n",
            "100\n",
            "OK\n",
            "############\n",
            "3: https://business.linkedin.com/talent-solutions/recruiting-tips/12-essential-recruiting-tips-and-tactics\n",
            "Article downloaded\n",
            "22\n",
            "ERROR\n",
            "############\n",
            "4: https://www.linkedin.com/advice/1/what-some-tools-methods-you-use-conduct-job-analysis\n",
            "Article downloaded\n",
            "54\n",
            "ERROR\n",
            "############\n",
            "5: https://www.coursehero.com/tutors-problems/Human-Resource-Management/26761067-Part-AIdentify-and-summarize-the-five-steps-involved-in-the-job-analy/\n",
            "Article downloaded\n",
            "0\n",
            "ERROR\n",
            "############\n",
            "6: https://www.linkedin.com/pulse/top-5-talent-acquisition-strategies-2023-rchilli-inc-/\n",
            "Article downloaded\n",
            "96\n",
            "OK\n",
            "############\n",
            "7: https://mashable.com/article/27-job-interview-questions-glassdoor\n",
            "Article downloaded\n",
            "95\n",
            "OK\n",
            "############\n",
            "8: https://www.shrm.org/topics-tools/news/talent-acquisition/how-to-choose-hiring-assessments-work\n",
            "Article downloaded\n",
            "100\n",
            "OK\n",
            "############\n",
            "9: https://blog.hubspot.com/marketing/common-interview-questions\n",
            "Article downloaded\n",
            "51\n",
            "ERROR\n",
            "############\n",
            "10: https://www.forbes.com/sites/forbescoachescouncil/2023/01/30/going-beneath-the-surface-how-leaders-can-strategically-use-assessments-to-facilitate-employee-and-team-growth/?sh=5c084d3032e5\n",
            "Article downloaded\n",
            "############\n",
            "11: https://www.allgravy.com/post/guide-to-employee-onboarding\n",
            "Article downloaded\n",
            "99\n",
            "OK\n",
            "############\n",
            "12: https://www.employeeconnect.com/blog/employee-onboarding-program/\n",
            "Article downloaded\n",
            "100\n",
            "OK\n",
            "############\n",
            "13: https://www.culturemonkey.io/employee-engagement/new-employee-orientation/\n",
            "Article downloaded\n",
            "100\n",
            "OK\n",
            "############\n",
            "14: https://www.shrm.org/topics-tools/news/talent-acquisition/new-employee-onboarding-guide-talent-acquisition\n",
            "Article downloaded\n",
            "100\n",
            "OK\n",
            "############\n",
            "15: https://www.rbl.net/insights/articles/eleven-evolutions-in-human-capability-that-accelerate-the-business\n",
            "Article downloaded\n",
            "100\n",
            "OK\n",
            "############\n",
            "16: https://www.rbl.net/insights/articles/what-makes-an-effective-hr-function\n",
            "Article downloaded\n",
            "98\n",
            "OK\n",
            "############\n",
            "17: https://www.aihr.com/blog/performance-appraisal/\n",
            "Article downloaded\n",
            "99\n",
            "OK\n",
            "############\n",
            "18: https://hrzone.com/blog/how-to-improve-employee-engagement-and-performance-0/\n",
            "Article downloaded\n",
            "100\n",
            "OK\n",
            "############\n",
            "19: https://www2.deloitte.com/us/en/insights/focus/human-capital-trends/2017/redesigning-performance-management.html\n",
            "Article downloaded\n",
            "100\n",
            "OK\n",
            "############\n",
            "20: https://www.linkedin.com/pulse/how-resolve-conflict-workplace-get-ahead-by-linkedin-news/\n",
            "Article downloaded\n",
            "100\n",
            "OK\n",
            "############\n",
            "21: https://hrdailyadvisor.blr.com/2013/09/09/5-conflict-resolution-practices-for-hr/\n",
            "Article downloaded\n",
            "100\n",
            "OK\n",
            "############\n",
            "22: https://mariopeshev.com/4-ps-employee-relations-conflict-management/\n",
            "Article downloaded\n",
            "100\n",
            "OK\n",
            "############\n",
            "23: https://www.indeed.com/hire/c/info/managing-conflicts-in-the-workplace\n",
            "Article downloaded\n",
            "############\n",
            "24: https://www.entrepreneur.com/leadership/6-strategies-to-resolve-conflict-at-work/303617\n",
            "Article downloaded\n",
            "99\n",
            "OK\n",
            "############\n",
            "25: https://www.glassdoor.com/employers/blog/best-practices-glassdoor-reviews/\n",
            "Article downloaded\n",
            "############\n",
            "26: https://www.themuse.com/advice/conflict-resolution-at-work-tip-solve-problems\n",
            "Article downloaded\n",
            "100\n",
            "OK\n",
            "############\n",
            "27: https://briohr.com/blog/hr-professionals-guide-compensation-benefits/\n",
            "Article downloaded\n",
            "100\n",
            "OK\n",
            "############\n",
            "28: https://courses.lumenlearning.com/wmopen-principlesofmanagement/chapter/employee-compensation-incentive-and-benefits-strategies/\n",
            "Article downloaded\n",
            "100\n",
            "OK\n",
            "############\n",
            "29: https://www.workramp.com/blog/continuous-learning/\n",
            "Article downloaded\n",
            "0\n",
            "ERROR\n",
            "############\n",
            "30: https://bookboonlearning.com/blog/learning-culture/building-a-culture-of-continuous-learning-strategies-for-long-term-success/\n",
            "Article downloaded\n",
            "100\n",
            "OK\n",
            "############\n",
            "31: https://www.edc.org/sites/default/files/uploads/EDC-Building-Culture-Continuous-Improvement.pdf\n",
            "32: https://www.forbes.com/sites/forbeshumanresourcescouncil/2021/07/13/12-ways-to-implement-successful-employee-training-initiatives/\n",
            "Article downloaded\n",
            "############\n",
            "33: https://cognota.com/blog/how-to-build-a-learning-and-development-program/\n",
            "Article downloaded\n",
            "1\n",
            "ERROR\n",
            "############\n",
            "34: https://www.elevateleadership.com/blog/management-development-program\n",
            "Article downloaded\n",
            "58\n",
            "ERROR\n",
            "############\n",
            "35: https://www.business.org/hr/workforce-management/steps-to-develop-an-effective-employee-training-program/\n",
            "Article downloaded\n",
            "100\n",
            "OK\n",
            "############\n",
            "36: https://powertofly.com/up/deib\n",
            "Article downloaded\n",
            "99\n",
            "OK\n",
            "############\n",
            "37: https://www.radiusgs.com/how-dei-boosts-customer-service/?utm_medium=Partnership&utm_source=powertofly&utm_campaign=9_Ways_to_Get_Buy-in_for_DEIB_Efforts&utm_content=9_Ways_to_Get_Buy-in_for_DEIB_Efforts\n",
            "Article downloaded\n",
            "16\n",
            "ERROR\n",
            "############\n",
            "38: https://www.mckinsey.com/~/media/mckinsey/featured insights/diversity and inclusion/diversity wins how inclusion matters/diversity-wins-how-inclusion-matters-vf.pdf\n",
            "39: https://www3.weforum.org/docs/WEF_Global_Parity_Alliance_2023.pdf\n",
            "40: https://hrc-prod-requests.s3-us-west-2.amazonaws.com/files/assets/resources/AWorkplaceDivided-2018.pdf\n",
            "41: https://www.wcwonline.org/images/pdf/Knapsack_plus_Notes-Peggy_McIntosh.pdf\n",
            "42: https://www.cwsworkshop.org/PARC_site_B/dr-culture.html\n",
            "Article downloaded\n",
            "############\n",
            "43: https://www3.uwsp.edu/hr/Documents/Tips for Discussing Racial Injustice in the Workplace.pdf\n",
            "44: https://ssir.org/articles/entry/policies_processes_and_protocols_three_keys_to_building_a_diverse_workplace\n",
            "Article downloaded\n",
            "99\n",
            "OK\n",
            "############\n",
            "45: https://www.shrm.org/topics-tools/news/inclusion-equity-diversity/try-strategies-to-reduce-implicit-bias-workplace\n",
            "Article downloaded\n",
            "59\n",
            "ERROR\n",
            "############\n",
            "46: https://blog.execsearches.com/2021/05/11/effective-planning-for-diversity-talent-acquisition/\n",
            "Article downloaded\n",
            "53\n",
            "ERROR\n",
            "############\n",
            "47: https://www.onlinemba.com/resources/diversity-in-business/\n",
            "Article downloaded\n",
            "0\n",
            "ERROR\n",
            "############\n",
            "48: https://nonprofitquarterly.org/5-hiring-pitfalls-to-avoid/\n",
            "Article downloaded\n",
            "100\n",
            "OK\n",
            "############\n",
            "49: https://onlinegrad.pepperdine.edu/blog/learning-to-speak-up-for-equity-in-the-workplace/\n",
            "Article downloaded\n",
            "100\n",
            "OK\n",
            "############\n",
            "50: https://www.fingerprintforsuccess.com/blog/women-of-color-in-the-workplace\n",
            "Article downloaded\n",
            "99\n",
            "OK\n",
            "############\n",
            "51: https://racialequityalliance.org/wp-content/uploads/2015/10/GARE-Racial_Equity_Toolkit.pdf\n",
            "52: https://www.verywellhealth.com/what-is-occupational-health-and-safety-4159865\n",
            "Article downloaded\n",
            "99\n",
            "OK\n",
            "############\n",
            "53: https://it.wikipedia.org/wiki/Salute_e_sicurezza_sul_lavoro\n",
            "Article downloaded\n",
            "47\n",
            "ERROR\n",
            "############\n",
            "54: https://www.gazzettaufficiale.it/eli/id/2008/04/30/008G0104/sg\n",
            "Article downloaded\n",
            "18\n",
            "ERROR\n",
            "############\n",
            "55: https://www.bosettiegatti.eu/info/norme/comunitarie/1992_0057.htm 03\n",
            "Article downloaded\n",
            "############\n",
            "56: https://www.ispettorato.gov.it/documenti-e-normativa/normativa-di-interesse/salute-e-sicurezza-nei-luoghi-di-lavoro/\n",
            "Article downloaded\n",
            "0\n",
            "ERROR\n",
            "############\n",
            "57: https://www.edizionieuropee.it/LAW/HTML/28/zn53_01_087.html _ART0006\n",
            "Article downloaded\n",
            "############\n",
            "58: https://www.forbes.com/advisor/business/strategic-human-resource-management/\n",
            "Article downloaded\n",
            "############\n",
            "59: https://hr.university/shrm/strategic-human-resource-management/\n",
            "Article downloaded\n",
            "1\n",
            "ERROR\n",
            "############\n",
            "60: https://www.smartsheet.com/strategic-human-resource-management\n",
            "Article downloaded\n",
            "100\n",
            "OK\n",
            "############\n",
            "61: https://www.aihr.com/blog/strategic-human-resource-management/\n",
            "Article downloaded\n",
            "98\n",
            "OK\n",
            "############\n",
            "62: https://www.gartner.com/en/human-resources/topics/hr-strategy\n",
            "Article downloaded\n",
            "55\n",
            "ERROR\n",
            "############\n",
            "63: https://www.cipd.org/uk/knowledge/factsheets/strategic-hrm-factsheet/\n",
            "Article downloaded\n",
            "100\n",
            "OK\n",
            "############\n",
            "64: https://www.hrci.org/community/blogs-and-announcements/hr-leads-business-blog/hr-leads-business/2022/02/14/principles-of-strategic-hr-management\n",
            "Article downloaded\n",
            "100\n",
            "OK\n",
            "############\n",
            "65: https://peoplemanagingpeople.com/strategy-operations/workforce-planning/strategic-human-resource-management/\n",
            "Article downloaded\n"
          ]
        },
        {
          "output_type": "stream",
          "name": "stderr",
          "text": [
            "<ipython-input-3-fe253ab979d4>:14: RuntimeWarning: invalid value encountered in divide\n",
            "  length_list = np.array(length_list) / max_text_length\n"
          ]
        },
        {
          "output_type": "stream",
          "name": "stdout",
          "text": [
            "0\n",
            "ERROR\n",
            "############\n",
            "66: https://www.personio.com/hr-lexicon/strategic-human-resource-management/\n",
            "Article downloaded\n",
            "99\n",
            "OK\n",
            "############\n",
            "67: https://hbr.org/2022/07/its-time-to-reimagine-employee-retention\n",
            "Article downloaded\n",
            "59\n",
            "ERROR\n",
            "############\n",
            "68: https://hbr.org/2021/10/how-companies-can-improve-employee-engagement-right-now\n",
            "Article downloaded\n",
            "100\n",
            "OK\n",
            "############\n",
            "69: https://www.forbes.com/advisor/business/employee-retention-strategies/\n",
            "Article downloaded\n",
            "############\n",
            "70: https://blog.workday.com/en-us/2022/secret-employee-retention-employee-engagement.html\n",
            "Article downloaded\n",
            "70\n",
            "ERROR\n",
            "############\n",
            "71: https://knowledge.wharton.upenn.edu/article/motivation-up-attrition-down-employee-engagement/\n",
            "Article downloaded\n",
            "100\n",
            "OK\n",
            "############\n",
            "72: https://www2.deloitte.com/us/en/insights/focus/human-capital-trends/2016/employee-engagement-and-retention.html\n",
            "Article downloaded\n",
            "100\n",
            "OK\n",
            "############\n",
            "73: https://www.culturemonkey.io/employee-engagement/workplace-employee-engagement-and-retention/\n",
            "Article downloaded\n",
            "100\n",
            "OK\n",
            "############\n",
            "74: https://www.techtarget.com/searchhrsoftware/feature/Nine-strategies-to-increase-employee-engagement-and-retention\n",
            "Article downloaded\n",
            "100\n",
            "OK\n",
            "############\n",
            "75: https://factorial.it/blog/hr-analytics/\n",
            "Article downloaded\n",
            "100\n",
            "OK\n",
            "############\n",
            "76: https://www.peoplechange360.it/hr-tech-analytics/hr-analytics-che-cosa-sono-performance-aziendali-approccio-hr-data-driven/\n",
            "Article downloaded\n",
            "100\n",
            "OK\n",
            "############\n",
            "77: https://www.almalaboris.com/organismo/blog-lavoro-alma-laboris/64-risorse-umane/2438-hr-analytics-cosa-sono-cosa-servono-esempi-metriche.html\n",
            "Article downloaded\n",
            "99\n",
            "OK\n",
            "############\n",
            "78: https://www.altamirahrm.com/it/blog/hr-analytics\n",
            "Article downloaded\n",
            "97\n",
            "OK\n",
            "############\n",
            "79: https://en.wikipedia.org/wiki/Change_management\n",
            "Article downloaded\n",
            "100\n",
            "OK\n",
            "############\n",
            "80: https://www.forbes.com/advisor/business/principles-of-change-management/\n",
            "Article downloaded\n",
            "############\n",
            "81: https://online.hbs.edu/blog/post/change-management-process\n",
            "Article downloaded\n",
            "100\n",
            "OK\n",
            "############\n",
            "82: https://www.prosci.com/change-management\n",
            "Article downloaded\n",
            "46\n",
            "ERROR\n",
            "############\n",
            "83: https://www.cipd.org/en/knowledge/factsheets/ethics-role-hr-factsheet/\n",
            "Article downloaded\n",
            "63\n",
            "ERROR\n",
            "############\n",
            "84: https://www.shrm.org/topics-tools/news/ethical-decision-making-hr-profession\n",
            "Article downloaded\n",
            "100\n",
            "OK\n",
            "############\n",
            "85: https://hrforecast.com/ethics-and-integrity-in-human-resource-management/\n",
            "Article downloaded\n",
            "43\n",
            "ERROR\n",
            "############\n",
            "86: https://www.hrmsinsights.com/news/ethical-practices-in-hr-ensuring-fairness-and-transparency/\n",
            "Article downloaded\n",
            "68\n",
            "ERROR\n",
            "############\n",
            "87: https://www.cornerstoneondemand.com/resources/article/ethics-human-resources-6-guidelines-hr-teams/\n",
            "Article downloaded\n",
            "99\n",
            "OK\n",
            "############\n",
            "88: https://www.corporatewellnessmagazine.com/article/promoting-workplace-ethics-a-critical-hr-responsibility\n",
            "Article downloaded\n",
            "100\n",
            "OK\n",
            "############\n",
            "89: https://www.aihr.com/blog/organizational-ethics-and-hr/\n",
            "Article downloaded\n",
            "99\n",
            "OK\n",
            "############\n"
          ]
        }
      ]
    },
    {
      "cell_type": "markdown",
      "source": [
        "# Docs analysis"
      ],
      "metadata": {
        "id": "cybYOvdG8jZ9"
      }
    },
    {
      "cell_type": "code",
      "source": [
        "file_list = os.listdir('/content/gdrive/MyDrive/Syllog/transcripts')\n",
        "\n",
        "tot_chars = []\n",
        "\n",
        "for file in file_list:\n",
        "\n",
        "  # This is the file where the full Law is reported\n",
        "  if 'ITA' in file:\n",
        "    continue\n",
        "\n",
        "  num_chars = 0\n",
        "  f = open('/content/gdrive/MyDrive/Syllog/transcripts/' + file, 'r')\n",
        "  for line in f:\n",
        "    num_chars += len(line)\n",
        "  print(f'{file}: {num_chars}')\n",
        "  tot_chars.append(num_chars)"
      ],
      "metadata": {
        "id": "lUzeQa7bR9xD"
      },
      "execution_count": null,
      "outputs": []
    },
    {
      "cell_type": "code",
      "source": [
        "data = np.array(tot_chars) / 3.0"
      ],
      "metadata": {
        "id": "CbMVlsuJ-WfN"
      },
      "execution_count": null,
      "outputs": []
    },
    {
      "cell_type": "code",
      "source": [
        "# Create a histogram trace\n",
        "histogram_trace = go.Histogram(x=data, nbinsx=100, name='Histogram')\n",
        "\n",
        "# Create layout\n",
        "layout = go.Layout(title='Distribution of # Tokens per doc', xaxis=dict(title='Values'), yaxis=dict(title='Frequency'))\n",
        "\n",
        "# Create figure\n",
        "fig = go.Figure(data=[histogram_trace], layout=layout)\n",
        "\n",
        "# Show the plot\n",
        "fig.show()"
      ],
      "metadata": {
        "colab": {
          "base_uri": "https://localhost:8080/",
          "height": 542
        },
        "id": "L0yGnovk_HUO",
        "outputId": "53f13ead-94e7-4ede-e018-ce91c4e24853"
      },
      "execution_count": null,
      "outputs": [
        {
          "output_type": "display_data",
          "data": {
            "text/html": [
              "<html>\n",
              "<head><meta charset=\"utf-8\" /></head>\n",
              "<body>\n",
              "    <div>            <script src=\"https://cdnjs.cloudflare.com/ajax/libs/mathjax/2.7.5/MathJax.js?config=TeX-AMS-MML_SVG\"></script><script type=\"text/javascript\">if (window.MathJax && window.MathJax.Hub && window.MathJax.Hub.Config) {window.MathJax.Hub.Config({SVG: {font: \"STIX-Web\"}});}</script>                <script type=\"text/javascript\">window.PlotlyConfig = {MathJaxConfig: 'local'};</script>\n",
              "        <script charset=\"utf-8\" src=\"https://cdn.plot.ly/plotly-2.24.1.min.js\"></script>                <div id=\"01e501ee-3743-4946-a682-6c3e20f39971\" class=\"plotly-graph-div\" style=\"height:525px; width:100%;\"></div>            <script type=\"text/javascript\">                                    window.PLOTLYENV=window.PLOTLYENV || {};                                    if (document.getElementById(\"01e501ee-3743-4946-a682-6c3e20f39971\")) {                    Plotly.newPlot(                        \"01e501ee-3743-4946-a682-6c3e20f39971\",                        [{\"name\":\"Histogram\",\"nbinsx\":100,\"x\":[2768.6666666666665,2803.6666666666665,2042.3333333333333,1517.0,1458.6666666666667,2662.6666666666665,1386.6666666666667,2615.6666666666665,3935.3333333333335,2365.3333333333335,1729.3333333333333,1300.3333333333333,6844.333333333333,2103.0,5072.666666666667,2978.0,2140.0,5374.666666666667,1615.3333333333333,2035.6666666666667,3559.0,3250.0,3891.3333333333335,5198.333333333333,3777.0,3349.3333333333335,7016.666666666667,10398.333333333334,2331.6666666666665,2940.0,4643.333333333333,2232.0,1393.6666666666667,3207.3333333333335,6967.666666666667,2834.0,2613.6666666666665,2268.3333333333335,7506.333333333333,8980.0,261.6666666666667,6426.0,5874.333333333333,1328.0,1343.0,2910.0,1598.3333333333333,3577.0,3610.0,4425.0,523.6666666666666,6002.333333333333,1779.6666666666667,3639.6666666666665,3540.6666666666665,2319.6666666666665,1038.0,6354.666666666667,1381.6666666666667,5662.0,3372.3333333333335,849.6666666666666,157.33333333333334,5641.333333333333,2903.6666666666665,1926.0,6290.0,1408.0,13733.333333333334,4152.333333333333,2346.6666666666665,2912.3333333333335,11014.0,268.3333333333333,4514.333333333333,2701.3333333333335,66.0],\"type\":\"histogram\"}],                        {\"title\":{\"text\":\"Distribution of # Tokens per doc\"},\"xaxis\":{\"title\":{\"text\":\"Values\"}},\"yaxis\":{\"title\":{\"text\":\"Frequency\"}},\"template\":{\"data\":{\"histogram2dcontour\":[{\"type\":\"histogram2dcontour\",\"colorbar\":{\"outlinewidth\":0,\"ticks\":\"\"},\"colorscale\":[[0.0,\"#0d0887\"],[0.1111111111111111,\"#46039f\"],[0.2222222222222222,\"#7201a8\"],[0.3333333333333333,\"#9c179e\"],[0.4444444444444444,\"#bd3786\"],[0.5555555555555556,\"#d8576b\"],[0.6666666666666666,\"#ed7953\"],[0.7777777777777778,\"#fb9f3a\"],[0.8888888888888888,\"#fdca26\"],[1.0,\"#f0f921\"]]}],\"choropleth\":[{\"type\":\"choropleth\",\"colorbar\":{\"outlinewidth\":0,\"ticks\":\"\"}}],\"histogram2d\":[{\"type\":\"histogram2d\",\"colorbar\":{\"outlinewidth\":0,\"ticks\":\"\"},\"colorscale\":[[0.0,\"#0d0887\"],[0.1111111111111111,\"#46039f\"],[0.2222222222222222,\"#7201a8\"],[0.3333333333333333,\"#9c179e\"],[0.4444444444444444,\"#bd3786\"],[0.5555555555555556,\"#d8576b\"],[0.6666666666666666,\"#ed7953\"],[0.7777777777777778,\"#fb9f3a\"],[0.8888888888888888,\"#fdca26\"],[1.0,\"#f0f921\"]]}],\"heatmap\":[{\"type\":\"heatmap\",\"colorbar\":{\"outlinewidth\":0,\"ticks\":\"\"},\"colorscale\":[[0.0,\"#0d0887\"],[0.1111111111111111,\"#46039f\"],[0.2222222222222222,\"#7201a8\"],[0.3333333333333333,\"#9c179e\"],[0.4444444444444444,\"#bd3786\"],[0.5555555555555556,\"#d8576b\"],[0.6666666666666666,\"#ed7953\"],[0.7777777777777778,\"#fb9f3a\"],[0.8888888888888888,\"#fdca26\"],[1.0,\"#f0f921\"]]}],\"heatmapgl\":[{\"type\":\"heatmapgl\",\"colorbar\":{\"outlinewidth\":0,\"ticks\":\"\"},\"colorscale\":[[0.0,\"#0d0887\"],[0.1111111111111111,\"#46039f\"],[0.2222222222222222,\"#7201a8\"],[0.3333333333333333,\"#9c179e\"],[0.4444444444444444,\"#bd3786\"],[0.5555555555555556,\"#d8576b\"],[0.6666666666666666,\"#ed7953\"],[0.7777777777777778,\"#fb9f3a\"],[0.8888888888888888,\"#fdca26\"],[1.0,\"#f0f921\"]]}],\"contourcarpet\":[{\"type\":\"contourcarpet\",\"colorbar\":{\"outlinewidth\":0,\"ticks\":\"\"}}],\"contour\":[{\"type\":\"contour\",\"colorbar\":{\"outlinewidth\":0,\"ticks\":\"\"},\"colorscale\":[[0.0,\"#0d0887\"],[0.1111111111111111,\"#46039f\"],[0.2222222222222222,\"#7201a8\"],[0.3333333333333333,\"#9c179e\"],[0.4444444444444444,\"#bd3786\"],[0.5555555555555556,\"#d8576b\"],[0.6666666666666666,\"#ed7953\"],[0.7777777777777778,\"#fb9f3a\"],[0.8888888888888888,\"#fdca26\"],[1.0,\"#f0f921\"]]}],\"surface\":[{\"type\":\"surface\",\"colorbar\":{\"outlinewidth\":0,\"ticks\":\"\"},\"colorscale\":[[0.0,\"#0d0887\"],[0.1111111111111111,\"#46039f\"],[0.2222222222222222,\"#7201a8\"],[0.3333333333333333,\"#9c179e\"],[0.4444444444444444,\"#bd3786\"],[0.5555555555555556,\"#d8576b\"],[0.6666666666666666,\"#ed7953\"],[0.7777777777777778,\"#fb9f3a\"],[0.8888888888888888,\"#fdca26\"],[1.0,\"#f0f921\"]]}],\"mesh3d\":[{\"type\":\"mesh3d\",\"colorbar\":{\"outlinewidth\":0,\"ticks\":\"\"}}],\"scatter\":[{\"fillpattern\":{\"fillmode\":\"overlay\",\"size\":10,\"solidity\":0.2},\"type\":\"scatter\"}],\"parcoords\":[{\"type\":\"parcoords\",\"line\":{\"colorbar\":{\"outlinewidth\":0,\"ticks\":\"\"}}}],\"scatterpolargl\":[{\"type\":\"scatterpolargl\",\"marker\":{\"colorbar\":{\"outlinewidth\":0,\"ticks\":\"\"}}}],\"bar\":[{\"error_x\":{\"color\":\"#2a3f5f\"},\"error_y\":{\"color\":\"#2a3f5f\"},\"marker\":{\"line\":{\"color\":\"#E5ECF6\",\"width\":0.5},\"pattern\":{\"fillmode\":\"overlay\",\"size\":10,\"solidity\":0.2}},\"type\":\"bar\"}],\"scattergeo\":[{\"type\":\"scattergeo\",\"marker\":{\"colorbar\":{\"outlinewidth\":0,\"ticks\":\"\"}}}],\"scatterpolar\":[{\"type\":\"scatterpolar\",\"marker\":{\"colorbar\":{\"outlinewidth\":0,\"ticks\":\"\"}}}],\"histogram\":[{\"marker\":{\"pattern\":{\"fillmode\":\"overlay\",\"size\":10,\"solidity\":0.2}},\"type\":\"histogram\"}],\"scattergl\":[{\"type\":\"scattergl\",\"marker\":{\"colorbar\":{\"outlinewidth\":0,\"ticks\":\"\"}}}],\"scatter3d\":[{\"type\":\"scatter3d\",\"line\":{\"colorbar\":{\"outlinewidth\":0,\"ticks\":\"\"}},\"marker\":{\"colorbar\":{\"outlinewidth\":0,\"ticks\":\"\"}}}],\"scattermapbox\":[{\"type\":\"scattermapbox\",\"marker\":{\"colorbar\":{\"outlinewidth\":0,\"ticks\":\"\"}}}],\"scatterternary\":[{\"type\":\"scatterternary\",\"marker\":{\"colorbar\":{\"outlinewidth\":0,\"ticks\":\"\"}}}],\"scattercarpet\":[{\"type\":\"scattercarpet\",\"marker\":{\"colorbar\":{\"outlinewidth\":0,\"ticks\":\"\"}}}],\"carpet\":[{\"aaxis\":{\"endlinecolor\":\"#2a3f5f\",\"gridcolor\":\"white\",\"linecolor\":\"white\",\"minorgridcolor\":\"white\",\"startlinecolor\":\"#2a3f5f\"},\"baxis\":{\"endlinecolor\":\"#2a3f5f\",\"gridcolor\":\"white\",\"linecolor\":\"white\",\"minorgridcolor\":\"white\",\"startlinecolor\":\"#2a3f5f\"},\"type\":\"carpet\"}],\"table\":[{\"cells\":{\"fill\":{\"color\":\"#EBF0F8\"},\"line\":{\"color\":\"white\"}},\"header\":{\"fill\":{\"color\":\"#C8D4E3\"},\"line\":{\"color\":\"white\"}},\"type\":\"table\"}],\"barpolar\":[{\"marker\":{\"line\":{\"color\":\"#E5ECF6\",\"width\":0.5},\"pattern\":{\"fillmode\":\"overlay\",\"size\":10,\"solidity\":0.2}},\"type\":\"barpolar\"}],\"pie\":[{\"automargin\":true,\"type\":\"pie\"}]},\"layout\":{\"autotypenumbers\":\"strict\",\"colorway\":[\"#636efa\",\"#EF553B\",\"#00cc96\",\"#ab63fa\",\"#FFA15A\",\"#19d3f3\",\"#FF6692\",\"#B6E880\",\"#FF97FF\",\"#FECB52\"],\"font\":{\"color\":\"#2a3f5f\"},\"hovermode\":\"closest\",\"hoverlabel\":{\"align\":\"left\"},\"paper_bgcolor\":\"white\",\"plot_bgcolor\":\"#E5ECF6\",\"polar\":{\"bgcolor\":\"#E5ECF6\",\"angularaxis\":{\"gridcolor\":\"white\",\"linecolor\":\"white\",\"ticks\":\"\"},\"radialaxis\":{\"gridcolor\":\"white\",\"linecolor\":\"white\",\"ticks\":\"\"}},\"ternary\":{\"bgcolor\":\"#E5ECF6\",\"aaxis\":{\"gridcolor\":\"white\",\"linecolor\":\"white\",\"ticks\":\"\"},\"baxis\":{\"gridcolor\":\"white\",\"linecolor\":\"white\",\"ticks\":\"\"},\"caxis\":{\"gridcolor\":\"white\",\"linecolor\":\"white\",\"ticks\":\"\"}},\"coloraxis\":{\"colorbar\":{\"outlinewidth\":0,\"ticks\":\"\"}},\"colorscale\":{\"sequential\":[[0.0,\"#0d0887\"],[0.1111111111111111,\"#46039f\"],[0.2222222222222222,\"#7201a8\"],[0.3333333333333333,\"#9c179e\"],[0.4444444444444444,\"#bd3786\"],[0.5555555555555556,\"#d8576b\"],[0.6666666666666666,\"#ed7953\"],[0.7777777777777778,\"#fb9f3a\"],[0.8888888888888888,\"#fdca26\"],[1.0,\"#f0f921\"]],\"sequentialminus\":[[0.0,\"#0d0887\"],[0.1111111111111111,\"#46039f\"],[0.2222222222222222,\"#7201a8\"],[0.3333333333333333,\"#9c179e\"],[0.4444444444444444,\"#bd3786\"],[0.5555555555555556,\"#d8576b\"],[0.6666666666666666,\"#ed7953\"],[0.7777777777777778,\"#fb9f3a\"],[0.8888888888888888,\"#fdca26\"],[1.0,\"#f0f921\"]],\"diverging\":[[0,\"#8e0152\"],[0.1,\"#c51b7d\"],[0.2,\"#de77ae\"],[0.3,\"#f1b6da\"],[0.4,\"#fde0ef\"],[0.5,\"#f7f7f7\"],[0.6,\"#e6f5d0\"],[0.7,\"#b8e186\"],[0.8,\"#7fbc41\"],[0.9,\"#4d9221\"],[1,\"#276419\"]]},\"xaxis\":{\"gridcolor\":\"white\",\"linecolor\":\"white\",\"ticks\":\"\",\"title\":{\"standoff\":15},\"zerolinecolor\":\"white\",\"automargin\":true,\"zerolinewidth\":2},\"yaxis\":{\"gridcolor\":\"white\",\"linecolor\":\"white\",\"ticks\":\"\",\"title\":{\"standoff\":15},\"zerolinecolor\":\"white\",\"automargin\":true,\"zerolinewidth\":2},\"scene\":{\"xaxis\":{\"backgroundcolor\":\"#E5ECF6\",\"gridcolor\":\"white\",\"linecolor\":\"white\",\"showbackground\":true,\"ticks\":\"\",\"zerolinecolor\":\"white\",\"gridwidth\":2},\"yaxis\":{\"backgroundcolor\":\"#E5ECF6\",\"gridcolor\":\"white\",\"linecolor\":\"white\",\"showbackground\":true,\"ticks\":\"\",\"zerolinecolor\":\"white\",\"gridwidth\":2},\"zaxis\":{\"backgroundcolor\":\"#E5ECF6\",\"gridcolor\":\"white\",\"linecolor\":\"white\",\"showbackground\":true,\"ticks\":\"\",\"zerolinecolor\":\"white\",\"gridwidth\":2}},\"shapedefaults\":{\"line\":{\"color\":\"#2a3f5f\"}},\"annotationdefaults\":{\"arrowcolor\":\"#2a3f5f\",\"arrowhead\":0,\"arrowwidth\":1},\"geo\":{\"bgcolor\":\"white\",\"landcolor\":\"#E5ECF6\",\"subunitcolor\":\"white\",\"showland\":true,\"showlakes\":true,\"lakecolor\":\"white\"},\"title\":{\"x\":0.05},\"mapbox\":{\"style\":\"light\"}}}},                        {\"responsive\": true}                    ).then(function(){\n",
              "                            \n",
              "var gd = document.getElementById('01e501ee-3743-4946-a682-6c3e20f39971');\n",
              "var x = new MutationObserver(function (mutations, observer) {{\n",
              "        var display = window.getComputedStyle(gd).display;\n",
              "        if (!display || display === 'none') {{\n",
              "            console.log([gd, 'removed!']);\n",
              "            Plotly.purge(gd);\n",
              "            observer.disconnect();\n",
              "        }}\n",
              "}});\n",
              "\n",
              "// Listen for the removal of the full notebook cells\n",
              "var notebookContainer = gd.closest('#notebook-container');\n",
              "if (notebookContainer) {{\n",
              "    x.observe(notebookContainer, {childList: true});\n",
              "}}\n",
              "\n",
              "// Listen for the clearing of the current output cell\n",
              "var outputEl = gd.closest('.output');\n",
              "if (outputEl) {{\n",
              "    x.observe(outputEl, {childList: true});\n",
              "}}\n",
              "\n",
              "                        })                };                            </script>        </div>\n",
              "</body>\n",
              "</html>"
            ]
          },
          "metadata": {}
        }
      ]
    },
    {
      "cell_type": "markdown",
      "source": [
        "# Docs elaboration"
      ],
      "metadata": {
        "id": "1Z2sna3kEyPC"
      }
    },
    {
      "cell_type": "code",
      "source": [
        "!pip install -qU langchain"
      ],
      "metadata": {
        "id": "iUWBkDad_LK5"
      },
      "execution_count": 2,
      "outputs": []
    },
    {
      "cell_type": "code",
      "source": [
        "!pip install -qU openai"
      ],
      "metadata": {
        "id": "WuBF7pehNwE6"
      },
      "execution_count": 3,
      "outputs": []
    },
    {
      "cell_type": "code",
      "source": [
        "from openai import OpenAI\n",
        "from langchain_core.prompts import PromptTemplate\n",
        "import json"
      ],
      "metadata": {
        "id": "O6RCQpy-F0d4"
      },
      "execution_count": 4,
      "outputs": []
    },
    {
      "cell_type": "code",
      "source": [
        "os.environ['OPENAI_API_KEY'] = userdata.get('OpenAI_API_Key')"
      ],
      "metadata": {
        "id": "ZGLlM89sFFTu"
      },
      "execution_count": 5,
      "outputs": []
    },
    {
      "cell_type": "code",
      "source": [
        "client = OpenAI()\n",
        "\n",
        "model_3_5_turbo_1106 = \"gpt-3.5-turbo-1106\"\n",
        "model = model_3_5_turbo_1106\n",
        "\n",
        "template_general_questions = \"\"\"\n",
        "    I provide you with the following context: '''{transcript}'''.\n",
        "    You must identify the general topic that is discussed in the provided context.\n",
        "    Once the general topic is identified, you need to generate five pairs of Question-Answer on the general topic.\n",
        "    Since the questions are generic, the answers must be at least 2 sentences (but do not go above 6 sentences).\n",
        "\"\"\"\n",
        "\n",
        "template_specific_questions = \"\"\"\n",
        "    I provide you with the following context: '''{transcript}'''.\n",
        "    You must identify the general topic that is discussed in the provided context.\n",
        "    Once the general topic is identified, you need to identify five sub-topics covered in the provided context.\n",
        "    Create *at least two* Question-Answer pair for each identified sub-topic.\n",
        "    Since the question are specific to a sub-topic, the answer must be at most 4 sentences long.\n",
        "    Do not mention the identified topics and sub-topics. All I want is the question-answer pairs.\n",
        "\"\"\"\n",
        "\n",
        "content = \"\"\"\n",
        "    You are a helpful assistant that reads documents, understand their content, and generate Question-Answer pairs.\n",
        "    Your output will be used to perform supervised fine tuning of a LLM - keep it in mind when formulating both the question and the answer.\n",
        "    The desired output format is the following:\n",
        "    - Identify the questions with \"Question:\" and the answers with \"Answer:\"\n",
        "    - each question and each answer need to be in one line only. The result of this is that each line will start either with \"Question:\" or with \"Answer:\"\n",
        "    - Do not add anything else\n",
        "    Avoid referring to any Named Entity in the questions, unless extremely relevant for the document content.\n",
        "    Email addresses and phone numbers are not relevant for me - do not mention them at any time.\n",
        "\"\"\""
      ],
      "metadata": {
        "id": "wdpEoWtqGyaq"
      },
      "execution_count": 54,
      "outputs": []
    },
    {
      "cell_type": "markdown",
      "source": [
        "Still need to define the \"transcript\" variable"
      ],
      "metadata": {
        "id": "fVKmtHHQHF07"
      }
    },
    {
      "cell_type": "code",
      "source": [
        "transcript = open('/content/gdrive/MyDrive/Syllog/transcripts/text_61.txt', 'r').read()"
      ],
      "metadata": {
        "id": "tax-J0wgSDgP"
      },
      "execution_count": 55,
      "outputs": []
    },
    {
      "cell_type": "code",
      "source": [
        "prompt_question = PromptTemplate(\n",
        "            input_variables = [\"transcript\"],\n",
        "            template=template_general_questions #  template_specific_questions\n",
        "        )\n",
        "\n",
        "query = prompt_question.format(\n",
        "    transcript = transcript,\n",
        ")\n",
        "\n",
        "response = client.chat.completions.create(\n",
        "    model=model,\n",
        "    messages=[\n",
        "        {\"role\": \"system\", \"content\": content},\n",
        "        {\"role\": \"user\", \"content\": query}\n",
        "    ],\n",
        "    temperature=0.0,\n",
        ")\n",
        "\n",
        "flashcard_content = response.choices[0].message.content"
      ],
      "metadata": {
        "id": "5D6k1PKvHEiB"
      },
      "execution_count": 56,
      "outputs": []
    },
    {
      "cell_type": "code",
      "source": [
        "flashcard_content"
      ],
      "metadata": {
        "id": "a71nFqckSlJe",
        "outputId": "ba6f6c5a-0293-4852-ef9f-663e68299e05",
        "colab": {
          "base_uri": "https://localhost:8080/",
          "height": 105
        }
      },
      "execution_count": 57,
      "outputs": [
        {
          "output_type": "execute_result",
          "data": {
            "text/plain": [
              "\"Topic: Strategic Human Resource Management\\n\\nSub-topics:\\n1. Definition and Importance of Strategic Human Resource Management\\n2. Traditional HRM vs Strategic HRM\\n3. Examples of Strategic Human Resource Management in Companies\\n4. Creating a Strategic Human Resource Management Plan\\n5. Emphasizing Data in Strategic Human Resource Management\\n\\nQuestion: What is the aim of Strategic Human Resource Management?\\nAnswer: Strategic Human Resource Management aims to align HR practices with business objectives to achieve organizational goals through the strategic deployment of a highly committed and capable workforce.\\n\\nQuestion: How does Strategic Human Resource Management differ from Traditional HRM?\\nAnswer: Traditional HRM was primarily reactive and task-oriented, while Strategic HRM is proactive, integrated with business strategies, and focuses on planning and taking action to ensure the organization has the workforce it needs to achieve its goals.\\n\\nQuestion: Can you provide examples of companies implementing Strategic Human Resource Management?\\nAnswer: Example 1: Nissan Motor Corporation fosters a corporate culture that empowers employees to innovate its manufacturing processes. Example 2: Brigham and Women’s Hospital focuses on creating a healthy work-life balance for employees. Example 3: Sainsbury’s empowers its employees to offer customers a great experience and invests in their training and development.\\n\\nQuestion: What are some best practices for creating a Strategic Human Resource Management plan?\\nAnswer: The first step is to create an HR strategic plan linked to overall business goals. All HR activities should align with the HR strategy and with each other to create a compound effect that helps achieve business outcomes. Emphasizing data is key to showing the impact of Strategic HRM.\\n\\nQuestion: Why is emphasizing data important in Strategic Human Resource Management?\\nAnswer: Data is crucial for showing the impact of Strategic HRM and can influence HR practices to sustain better outcomes. It allows tracking progress with HR key performance indicators (KPIs) aligned with the organization's strategy and can build a concrete business case for HR investments.\""
            ],
            "application/vnd.google.colaboratory.intrinsic+json": {
              "type": "string"
            }
          },
          "metadata": {},
          "execution_count": 57
        }
      ]
    }
  ]
}